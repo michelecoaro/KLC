{
 "cells": [
  {
   "cell_type": "markdown",
   "metadata": {},
   "source": [
    "\n",
    "# Project Outline\n",
    "\n",
    "1. **Data Loading and Preprocessing**\n",
    "\n",
    "   1. Load the dataset.\n",
    "   2. Exploratory Data Analysis:\n",
    "      - Feature histograms.\n",
    "      - Train-Test Split (to avoid leakage).\n",
    "      - Check for outliers (and optional removal).\n",
    "      - Scaling (Standardization).\n",
    "      - Correlation Matrix and Multicollinearity Check:\n",
    "        - Remove highly correlated features.\n",
    "   3. Prepare final features for analysis.\n",
    "\n",
    "2. **Linear Algorithms**\n",
    "\n",
    "   1. Perceptron\n",
    "      - Train with 5-fold cross-validation (CV).\n",
    "      - Hyperparameter tuning using CV.\n",
    "      - Evaluate the best-tuned model on the test set.\n",
    "   2. Pegasos SVM\n",
    "      - Train with 5-fold cross-validation.\n",
    "      - Evaluate the model on the test set.\n",
    "   3. Logistic Regression\n",
    "      - Train with 5-fold cross-validation.\n",
    "      - Evaluate the model on the test set.\n",
    "   4. Comparison of Results\n",
    "      - Summarize and compare accuracies across Perceptron, Pegasos SVM, and Logistic Regression.\n",
    "\n",
    "3. **Polynomial Feature Expansion**\n",
    "\n",
    "   1. Expand features to degree 2 (include squared terms and interactions).\n",
    "   2. Retrain and evaluate:\n",
    "      - Perceptron with polynomial expansion.\n",
    "      - Pegasos SVM with polynomial expansion.\n",
    "      - Logistic Regression with polynomial expansion.\n",
    "   3. Summarize and compare results:\n",
    "      - Linear vs. Polynomial-expanded features.\n",
    "      - Visualize results.\n",
    "\n",
    "4. **Kernelized Methods**\n",
    "\n",
    "   1. Kernelized Perceptron\n",
    "      - Implement and evaluate with:\n",
    "        - Gaussian Kernel.\n",
    "        - Polynomial Kernel.\n",
    "      - Compare test set accuracies.\n",
    "   2. Kernelized Pegasos SVM\n",
    "      - Implement and evaluate with:\n",
    "        - Gaussian Kernel.\n",
    "        - Polynomial Kernel.\n",
    "      - Compare test set accuracies.\n",
    "\n",
    "5. **Final Comparison**\n",
    "\n",
    "   1. Summarize final results:\n",
    "      - Linear models.\n",
    "      - Polynomial-expanded models.\n",
    "      - Kernelized models.\n",
    "\n"
   ]
  },
  {
   "cell_type": "markdown",
   "metadata": {},
   "source": [
    "# Kernelized Linear Classification"
   ]
  },
  {
   "cell_type": "markdown",
   "metadata": {},
   "source": [
    "## Initial imports + functions\n",
    "\n",
    "Basic libraries + custom functions (ffunctions.py):"
   ]
  },
  {
   "cell_type": "code",
   "execution_count": 1,
   "metadata": {},
   "outputs": [],
   "source": [
    "import pandas as pd\n",
    "import numpy as np\n",
    "import matplotlib.pyplot as plt\n",
    "\n",
    "# Uncomment the following line if you want that plots appear inline in a real Jupyter notebook:\n",
    "# %matplotlib inline\n",
    "\n",
    "from ffunctions import (\n",
    "    load_data,\n",
    "    train_test_split,\n",
    "    detect_outliers_zscore,\n",
    "    remove_outliers,\n",
    "    standard_scaler_fit,\n",
    "    standard_scaler_transform,\n",
    "    check_high_correlation,\n",
    "    k_fold_cross_validation,\n",
    "    perceptron_classifier_func,\n",
    "    pegasos_classifier_func,\n",
    "    logistic_regression_classifier_func,\n",
    "    perceptron_classifier_func_eta,\n",
    "    perceptron_train,\n",
    "    perceptron_predict,\n",
    "    pegasos_train,\n",
    "    pegasos_predict,\n",
    "    logistic_regression_train,\n",
    "    logistic_regression_predict,\n",
    "    polynomial_feature_expansion,\n",
    "    gaussian_kernel,\n",
    "    polynomial_kernel,\n",
    "    kernelized_perceptron_classifier_func,\n",
    "    kernelized_perceptron_train,\n",
    "    kernelized_perceptron_predict,\n",
    "    kernelized_pegasos_classifier_func,\n",
    "    kernelized_pegasos_train,\n",
    "    kernelized_pegasos_predict\n",
    ")"
   ]
  },
  {
   "cell_type": "markdown",
   "metadata": {},
   "source": [
    "Data loading:"
   ]
  },
  {
   "cell_type": "code",
   "execution_count": 2,
   "metadata": {},
   "outputs": [
    {
     "data": {
      "text/html": [
       "<div>\n",
       "<style scoped>\n",
       "    .dataframe tbody tr th:only-of-type {\n",
       "        vertical-align: middle;\n",
       "    }\n",
       "\n",
       "    .dataframe tbody tr th {\n",
       "        vertical-align: top;\n",
       "    }\n",
       "\n",
       "    .dataframe thead th {\n",
       "        text-align: right;\n",
       "    }\n",
       "</style>\n",
       "<table border=\"1\" class=\"dataframe\">\n",
       "  <thead>\n",
       "    <tr style=\"text-align: right;\">\n",
       "      <th></th>\n",
       "      <th>x1</th>\n",
       "      <th>x2</th>\n",
       "      <th>x3</th>\n",
       "      <th>x4</th>\n",
       "      <th>x5</th>\n",
       "      <th>x6</th>\n",
       "      <th>x7</th>\n",
       "      <th>x8</th>\n",
       "      <th>x9</th>\n",
       "      <th>x10</th>\n",
       "      <th>y</th>\n",
       "    </tr>\n",
       "  </thead>\n",
       "  <tbody>\n",
       "    <tr>\n",
       "      <th>0</th>\n",
       "      <td>1.205492</td>\n",
       "      <td>5.823226</td>\n",
       "      <td>98.837539</td>\n",
       "      <td>-1.075852</td>\n",
       "      <td>0.999205</td>\n",
       "      <td>0.911543</td>\n",
       "      <td>3.623558</td>\n",
       "      <td>-1.720267</td>\n",
       "      <td>-0.346191</td>\n",
       "      <td>-54.708330</td>\n",
       "      <td>-1</td>\n",
       "    </tr>\n",
       "    <tr>\n",
       "      <th>1</th>\n",
       "      <td>1.692571</td>\n",
       "      <td>-0.887019</td>\n",
       "      <td>100.901276</td>\n",
       "      <td>-0.595548</td>\n",
       "      <td>0.177550</td>\n",
       "      <td>-0.915495</td>\n",
       "      <td>4.320264</td>\n",
       "      <td>0.907834</td>\n",
       "      <td>3.126815</td>\n",
       "      <td>-56.397484</td>\n",
       "      <td>-1</td>\n",
       "    </tr>\n",
       "    <tr>\n",
       "      <th>2</th>\n",
       "      <td>4.289320</td>\n",
       "      <td>1.416843</td>\n",
       "      <td>100.784735</td>\n",
       "      <td>-2.897154</td>\n",
       "      <td>-0.066972</td>\n",
       "      <td>-0.786173</td>\n",
       "      <td>2.093003</td>\n",
       "      <td>1.336237</td>\n",
       "      <td>2.183829</td>\n",
       "      <td>-56.197728</td>\n",
       "      <td>1</td>\n",
       "    </tr>\n",
       "    <tr>\n",
       "      <th>3</th>\n",
       "      <td>0.542420</td>\n",
       "      <td>-1.010095</td>\n",
       "      <td>100.015580</td>\n",
       "      <td>-3.070705</td>\n",
       "      <td>0.088324</td>\n",
       "      <td>-0.242669</td>\n",
       "      <td>0.767942</td>\n",
       "      <td>-0.284683</td>\n",
       "      <td>-2.104145</td>\n",
       "      <td>-55.794045</td>\n",
       "      <td>1</td>\n",
       "    </tr>\n",
       "    <tr>\n",
       "      <th>4</th>\n",
       "      <td>2.431765</td>\n",
       "      <td>-1.224177</td>\n",
       "      <td>100.709237</td>\n",
       "      <td>-0.102892</td>\n",
       "      <td>0.699031</td>\n",
       "      <td>-0.656315</td>\n",
       "      <td>-0.911784</td>\n",
       "      <td>-1.355873</td>\n",
       "      <td>1.537825</td>\n",
       "      <td>-55.917863</td>\n",
       "      <td>-1</td>\n",
       "    </tr>\n",
       "  </tbody>\n",
       "</table>\n",
       "</div>"
      ],
      "text/plain": [
       "         x1        x2          x3        x4        x5        x6        x7  \\\n",
       "0  1.205492  5.823226   98.837539 -1.075852  0.999205  0.911543  3.623558   \n",
       "1  1.692571 -0.887019  100.901276 -0.595548  0.177550 -0.915495  4.320264   \n",
       "2  4.289320  1.416843  100.784735 -2.897154 -0.066972 -0.786173  2.093003   \n",
       "3  0.542420 -1.010095  100.015580 -3.070705  0.088324 -0.242669  0.767942   \n",
       "4  2.431765 -1.224177  100.709237 -0.102892  0.699031 -0.656315 -0.911784   \n",
       "\n",
       "         x8        x9        x10  y  \n",
       "0 -1.720267 -0.346191 -54.708330 -1  \n",
       "1  0.907834  3.126815 -56.397484 -1  \n",
       "2  1.336237  2.183829 -56.197728  1  \n",
       "3 -0.284683 -2.104145 -55.794045  1  \n",
       "4 -1.355873  1.537825 -55.917863 -1  "
      ]
     },
     "execution_count": 2,
     "metadata": {},
     "output_type": "execute_result"
    }
   ],
   "source": [
    "csv_path = \"YOUR_PATH_HERE\"\n",
    "df = load_data(csv_path)\n",
    "df.head()"
   ]
  },
  {
   "cell_type": "markdown",
   "metadata": {},
   "source": [
    "# Exploratory Data Analysis"
   ]
  },
  {
   "cell_type": "markdown",
   "metadata": {},
   "source": [
    "Understanding feature locations and shape"
   ]
  },
  {
   "cell_type": "code",
   "execution_count": 3,
   "metadata": {},
   "outputs": [
    {
     "data": {
      "image/png": "[encoded data removed]",
      "text/plain": [
       "<Figure size 1500x1000 with 12 Axes>"
      ]
     },
     "metadata": {},
     "output_type": "display_data"
    }
   ],
   "source": [
    "feature_cols = [f\"x{i}\" for i in range(1, 11)]\n",
    "df[feature_cols].hist(bins=30, figsize=(15, 10))\n",
    "plt.suptitle(\"Histograms of Numerical Features\", fontsize=16)\n",
    "plt.show()"
   ]
  },
  {
   "cell_type": "markdown",
   "metadata": {},
   "source": [
    "Train - Test split as first data leakage countermeasure:"
   ]
  },
  {
   "cell_type": "code",
   "execution_count": 4,
   "metadata": {},
   "outputs": [
    {
     "name": "stdout",
     "output_type": "stream",
     "text": [
      "Train set shape: (7788, 11)\n",
      "Test set shape: (1947, 11)\n"
     ]
    }
   ],
   "source": [
    "train_df, test_df = train_test_split(df, test_size=0.2, random_state=42)\n",
    "\n",
    "print(\"Train set shape:\", train_df.shape)\n",
    "print(\"Test set shape:\", test_df.shape)\n"
   ]
  },
  {
   "cell_type": "markdown",
   "metadata": {},
   "source": [
    "Checking for outliers in training set"
   ]
  },
  {
   "cell_type": "code",
   "execution_count": 5,
   "metadata": {},
   "outputs": [
    {
     "name": "stdout",
     "output_type": "stream",
     "text": [
      "Number of outliers detected in training set: 78\n"
     ]
    }
   ],
   "source": [
    "outlier_indices = detect_outliers_zscore(train_df, feature_cols, z_thresh=3.0)\n",
    "print(f\"Number of outliers detected in training set: {len(outlier_indices)}\")\n"
   ]
  },
  {
   "cell_type": "markdown",
   "metadata": {},
   "source": [
    "Outliers removal:\n"
   ]
  },
  {
   "cell_type": "code",
   "execution_count": 6,
   "metadata": {},
   "outputs": [
    {
     "name": "stdout",
     "output_type": "stream",
     "text": [
      "Train set (no outliers) shape: (7710, 11)\n"
     ]
    }
   ],
   "source": [
    "train_df_no_outliers = remove_outliers(train_df, outlier_indices)\n",
    "print(\"Train set (no outliers) shape:\", train_df_no_outliers.shape)"
   ]
  },
  {
   "cell_type": "markdown",
   "metadata": {},
   "source": [
    "Applying consistent scaling\n"
   ]
  },
  {
   "cell_type": "code",
   "execution_count": 7,
   "metadata": {},
   "outputs": [],
   "source": [
    "means, stds = standard_scaler_fit(train_df_no_outliers, feature_cols)\n",
    "train_scaled = standard_scaler_transform(train_df_no_outliers, feature_cols, means, stds)\n",
    "test_scaled = standard_scaler_transform(test_df, feature_cols, means, stds)\n"
   ]
  },
  {
   "cell_type": "markdown",
   "metadata": {},
   "source": [
    "Correlation Matrix"
   ]
  },
  {
   "cell_type": "code",
   "execution_count": 8,
   "metadata": {},
   "outputs": [
    {
     "data": {
      "image/png": "[encoded data removed]",
      "text/plain": [
       "<Figure size 800x600 with 2 Axes>"
      ]
     },
     "metadata": {},
     "output_type": "display_data"
    }
   ],
   "source": [
    "# 5. Correlation Matrix (for numerical columns)\n",
    "corr_matrix = train_scaled[feature_cols].corr()\n",
    "plt.figure(figsize=(8, 6))\n",
    "plt.imshow(corr_matrix, cmap='coolwarm', aspect='auto')\n",
    "plt.colorbar(label='Correlation Coefficient')\n",
    "plt.title('Correlation Matrix')\n",
    "plt.xticks(range(len(corr_matrix.columns)), corr_matrix.columns, rotation=45)\n",
    "plt.yticks(range(len(corr_matrix.columns)), corr_matrix.columns)\n",
    "plt.tight_layout()\n",
    "plt.show()\n"
   ]
  },
  {
   "cell_type": "markdown",
   "metadata": {},
   "source": [
    "Multicollinearity Check"
   ]
  },
  {
   "cell_type": "code",
   "execution_count": 9,
   "metadata": {},
   "outputs": [
    {
     "name": "stdout",
     "output_type": "stream",
     "text": [
      "High correlation pairs detected (above threshold):\n",
      "  x3 and x6 with correlation = 0.990\n",
      "  x3 and x10 with correlation = 0.980\n",
      "  x6 and x10 with correlation = 0.990\n"
     ]
    }
   ],
   "source": [
    "high_corr_pairs = check_high_correlation(train_df_no_outliers, feature_cols, corr_threshold=0.9)\n",
    "if high_corr_pairs:\n",
    "    print(\"High correlation pairs detected (above threshold):\")\n",
    "    for pair in high_corr_pairs:\n",
    "        print(f\"  {pair[0]} and {pair[1]} with correlation = {pair[2]:.3f}\")\n",
    "else:\n",
    "    print(\"No pairs of features exceed the correlation threshold.\")"
   ]
  },
  {
   "cell_type": "markdown",
   "metadata": {},
   "source": [
    "Removing unwanted columns"
   ]
  },
  {
   "cell_type": "code",
   "execution_count": 10,
   "metadata": {},
   "outputs": [
    {
     "name": "stdout",
     "output_type": "stream",
     "text": [
      "x3 0.058816122258262944\n",
      "x6 -0.06039355137913755\n",
      "x10 -0.05863942944301634\n",
      "\n",
      "Dropping x3, x6 from the final feature set...\n",
      "Final features: ['x1', 'x2', 'x4', 'x5', 'x7', 'x8', 'x9', 'x10']\n"
     ]
    }
   ],
   "source": [
    "for col in [\"x3\", \"x6\", \"x10\"]:\n",
    "    corr = train_df_no_outliers[col].corr(train_df_no_outliers[\"y\"])\n",
    "    print(col, corr)\n",
    "\n",
    "final_features = [f for f in feature_cols if f not in [\"x3\", \"x6\"]]\n",
    "print(\"\\nDropping x3, x6 from the final feature set...\")\n",
    "print(\"Final features:\", final_features)"
   ]
  },
  {
   "cell_type": "markdown",
   "metadata": {},
   "source": [
    "# Algorithms Implementation"
   ]
  },
  {
   "cell_type": "markdown",
   "metadata": {},
   "source": [
    "## Cross-validation"
   ]
  },
  {
   "cell_type": "markdown",
   "metadata": {},
   "source": []
  },
  {
   "cell_type": "code",
   "execution_count": 11,
   "metadata": {},
   "outputs": [
    {
     "name": "stdout",
     "output_type": "stream",
     "text": [
      "Perceptron 5-fold CV Accuracy: 0.618\n",
      "Pegasos 5-fold CV Accuracy: 0.726\n",
      "Logistic Regression 5-fold CV Accuracy: 0.718\n"
     ]
    }
   ],
   "source": [
    "target_col = \"y\"\n",
    "\n",
    "# Example: Perceptron with 5 epochs\n",
    "accuracy_perc = k_fold_cross_validation(\n",
    "    df=train_scaled,\n",
    "    features=final_features,\n",
    "    target=target_col,\n",
    "    k=5,\n",
    "    random_state=42,\n",
    "    classifier_func=lambda tr_fold, vl_fold, f, t: perceptron_classifier_func(\n",
    "        tr_fold, vl_fold, f, t, epochs=5\n",
    "    )\n",
    ")\n",
    "print(f\"Perceptron 5-fold CV Accuracy: {accuracy_perc:.3f}\")\n",
    "\n",
    "# Example: Pegasos\n",
    "accuracy_pegasos = k_fold_cross_validation(\n",
    "    df=train_scaled,\n",
    "    features=final_features,\n",
    "    target=target_col,\n",
    "    k=5,\n",
    "    random_state=42,\n",
    "    classifier_func=lambda tr_fold, vl_fold, f, t: pegasos_classifier_func(\n",
    "        tr_fold, vl_fold, f, t, lambda_param=0.01, epochs=5\n",
    "    )\n",
    ")\n",
    "print(f\"Pegasos 5-fold CV Accuracy: {accuracy_pegasos:.3f}\")\n",
    "\n",
    "# Example: Logistic Regression\n",
    "accuracy_logreg = k_fold_cross_validation(\n",
    "    df=train_scaled,\n",
    "    features=final_features,\n",
    "    target=target_col,\n",
    "    k=5,\n",
    "    random_state=42,\n",
    "    classifier_func=lambda tr_fold, vl_fold, f, t: logistic_regression_classifier_func(\n",
    "        tr_fold, vl_fold, f, t, lambda_param=0.01, epochs=5, eta=1.0\n",
    "    )\n",
    ")\n",
    "print(f\"Logistic Regression 5-fold CV Accuracy: {accuracy_logreg:.3f}\")\n"
   ]
  },
  {
   "cell_type": "markdown",
   "metadata": {},
   "source": [
    "## Perceptron"
   ]
  },
  {
   "cell_type": "markdown",
   "metadata": {},
   "source": [
    "### Hyperparameter Tuning"
   ]
  },
  {
   "cell_type": "code",
   "execution_count": 12,
   "metadata": {},
   "outputs": [
    {
     "name": "stdout",
     "output_type": "stream",
     "text": [
      "Testing epochs=5, eta=0.01...\n",
      "Accuracy: 0.600\n",
      "Testing epochs=5, eta=0.02...\n",
      "Accuracy: 0.600\n",
      "Testing epochs=5, eta=0.005...\n",
      "Accuracy: 0.600\n",
      "Testing epochs=5, eta=0.1...\n",
      "Accuracy: 0.600\n",
      "Testing epochs=5, eta=1.0...\n",
      "Accuracy: 0.600\n",
      "Testing epochs=10, eta=0.01...\n",
      "Accuracy: 0.701\n",
      "Testing epochs=10, eta=0.02...\n",
      "Accuracy: 0.701\n",
      "Testing epochs=10, eta=0.005...\n",
      "Accuracy: 0.701\n",
      "Testing epochs=10, eta=0.1...\n",
      "Accuracy: 0.701\n",
      "Testing epochs=10, eta=1.0...\n",
      "Accuracy: 0.701\n",
      "Testing epochs=20, eta=0.01...\n",
      "Accuracy: 0.639\n",
      "Testing epochs=20, eta=0.02...\n",
      "Accuracy: 0.639\n",
      "Testing epochs=20, eta=0.005...\n",
      "Accuracy: 0.639\n",
      "Testing epochs=20, eta=0.1...\n",
      "Accuracy: 0.639\n",
      "Testing epochs=20, eta=1.0...\n",
      "Accuracy: 0.639\n",
      "Testing epochs=50, eta=0.01...\n",
      "Accuracy: 0.646\n",
      "Testing epochs=50, eta=0.02...\n",
      "Accuracy: 0.646\n",
      "Testing epochs=50, eta=0.005...\n",
      "Accuracy: 0.646\n",
      "Testing epochs=50, eta=0.1...\n",
      "Accuracy: 0.646\n",
      "Testing epochs=50, eta=1.0...\n",
      "Accuracy: 0.646\n",
      "\n",
      "Best Hyperparameters:\n",
      "  Epochs: 10\n",
      "  Learning Rate: 0.01\n",
      "  Accuracy: 0.701\n"
     ]
    }
   ],
   "source": [
    "# Hyperparameter tuning for Perceptron\n",
    "# Define hyperparameter search space\n",
    "epochs_list = [5, 10, 20, 50]\n",
    "learning_rates = [0.01, 0.02, 0.005 ,0.1, 1.0]\n",
    "\n",
    "# Dictionary to store results\n",
    "tuning_results_perc = {}\n",
    "\n",
    "# Perform grid search over epochs and eta\n",
    "for epochs in epochs_list:\n",
    "    for eta in learning_rates:\n",
    "        print(f\"Testing epochs={epochs}, eta={eta}...\")\n",
    "        accuracy = k_fold_cross_validation(\n",
    "            train_scaled,\n",
    "            features=feature_cols,  # Use all features for tuning\n",
    "            target='y',\n",
    "            k=5,\n",
    "            random_state=42,\n",
    "            classifier_func=lambda tr_fold, vl_fold, f, t: perceptron_classifier_func_eta(\n",
    "                tr_fold, vl_fold, f, t, epochs=epochs, eta=eta\n",
    "            )\n",
    "        )\n",
    "        tuning_results_perc[(epochs, eta)] = accuracy\n",
    "        print(f\"Accuracy: {accuracy:.3f}\")\n",
    "\n",
    "# Find the best hyperparameter combination\n",
    "best_params_perc = max(tuning_results_perc, key=tuning_results_perc.get)\n",
    "best_accuracy_perc = tuning_results_perc[best_params_perc]\n",
    "\n",
    "print(\"\\nBest Hyperparameters:\")\n",
    "print(f\"  Epochs: {best_params_perc[0]}\")\n",
    "print(f\"  Learning Rate: {best_params_perc[1]}\")\n",
    "print(f\"  Accuracy: {best_accuracy_perc:.3f}\")\n"
   ]
  },
  {
   "cell_type": "code",
   "execution_count": 13,
   "metadata": {},
   "outputs": [
    {
     "name": "stdout",
     "output_type": "stream",
     "text": [
      "\n",
      "Evaluating subset: Features\n",
      "  Default Perceptron Accuracy: 0.600\n",
      "  Tuned Perceptron Accuracy: 0.701\n"
     ]
    }
   ],
   "source": [
    "# Extract best hyperparameters from tuning\n",
    "best_epochs_perc, best_eta_perc = best_params_perc\n",
    "\n",
    "# Compare default and tuned Perceptron across feature subsets\n",
    "subsets = {\n",
    "    \"Features\": feature_cols}\n",
    "\n",
    "comparison_results = {}\n",
    "\n",
    "for subset_name, subset_features in subsets.items():\n",
    "    print(f\"\\nEvaluating subset: {subset_name}\")\n",
    "    \n",
    "    # Default Perceptron\n",
    "    accuracy_default_perc = k_fold_cross_validation(\n",
    "        train_scaled,\n",
    "        features=subset_features,\n",
    "        target='y',\n",
    "        k=5,\n",
    "        random_state=42,\n",
    "        classifier_func=lambda tr_fold, vl_fold, f, t: perceptron_classifier_func(\n",
    "            tr_fold, vl_fold, f, t, epochs=5  # Default epochs\n",
    "        )\n",
    "    )\n",
    "    \n",
    "    # Tuned Perceptron\n",
    "    accuracy_tuned_perc = k_fold_cross_validation(\n",
    "        train_scaled,\n",
    "        features=subset_features,\n",
    "        target='y',\n",
    "        k=5,\n",
    "        random_state=42,\n",
    "        classifier_func=lambda tr_fold, vl_fold, f, t: perceptron_classifier_func_eta(\n",
    "            tr_fold, vl_fold, f, t, epochs=best_epochs_perc, eta=best_eta_perc\n",
    "        )\n",
    "    )\n",
    "    \n",
    "    comparison_results[subset_name] = {\n",
    "        \"Default Perceptron\": accuracy_default_perc,\n",
    "        \"Tuned Perceptron\": accuracy_tuned_perc,\n",
    "    }\n",
    "    \n",
    "    print(f\"  Default Perceptron Accuracy: {accuracy_default_perc:.3f}\")\n",
    "    print(f\"  Tuned Perceptron Accuracy: {accuracy_tuned_perc:.3f}\")\n"
   ]
  },
  {
   "cell_type": "markdown",
   "metadata": {},
   "source": [
    "Prediction on test dataset"
   ]
  },
  {
   "cell_type": "code",
   "execution_count": 14,
   "metadata": {},
   "outputs": [
    {
     "name": "stdout",
     "output_type": "stream",
     "text": [
      "Linear Perceptron final test accuracy: 0.617\n"
     ]
    }
   ],
   "source": [
    "theta_perc, theta0_perc = perceptron_train(\n",
    "    train_scaled,\n",
    "    features=final_features,\n",
    "    target=target_col,\n",
    "    epochs=5\n",
    ")\n",
    "test_preds_perc = perceptron_predict(\n",
    "    test_scaled,\n",
    "    features=final_features,\n",
    "    theta=theta_perc,\n",
    "    theta_0=theta0_perc\n",
    ")\n",
    "\n",
    "test_acc_perc = np.mean(test_preds_perc == test_scaled[target_col])\n",
    "print(f\"Linear Perceptron final test accuracy: {test_acc_perc:.3f}\")\n"
   ]
  },
  {
   "cell_type": "markdown",
   "metadata": {},
   "source": [
    "## Pegasos SVM"
   ]
  },
  {
   "cell_type": "markdown",
   "metadata": {},
   "source": [
    "Hyperparameter Tuning"
   ]
  },
  {
   "cell_type": "code",
   "execution_count": 15,
   "metadata": {},
   "outputs": [
    {
     "name": "stdout",
     "output_type": "stream",
     "text": [
      "Testing Pegasos SVM with lambda=0.001, epochs=5...\n",
      "Accuracy: 0.697\n",
      "Testing Pegasos SVM with lambda=0.001, epochs=10...\n",
      "Accuracy: 0.719\n",
      "Testing Pegasos SVM with lambda=0.001, epochs=20...\n",
      "Accuracy: 0.721\n",
      "Testing Pegasos SVM with lambda=0.001, epochs=50...\n",
      "Accuracy: 0.729\n",
      "Testing Pegasos SVM with lambda=0.01, epochs=5...\n",
      "Accuracy: 0.726\n",
      "Testing Pegasos SVM with lambda=0.01, epochs=10...\n",
      "Accuracy: 0.730\n",
      "Testing Pegasos SVM with lambda=0.01, epochs=20...\n",
      "Accuracy: 0.729\n",
      "Testing Pegasos SVM with lambda=0.01, epochs=50...\n",
      "Accuracy: 0.730\n",
      "Testing Pegasos SVM with lambda=0.1, epochs=5...\n",
      "Accuracy: 0.731\n",
      "Testing Pegasos SVM with lambda=0.1, epochs=10...\n",
      "Accuracy: 0.731\n",
      "Testing Pegasos SVM with lambda=0.1, epochs=20...\n",
      "Accuracy: 0.731\n",
      "Testing Pegasos SVM with lambda=0.1, epochs=50...\n",
      "Accuracy: 0.731\n",
      "Testing Pegasos SVM with lambda=1, epochs=5...\n",
      "Accuracy: 0.711\n",
      "Testing Pegasos SVM with lambda=1, epochs=10...\n",
      "Accuracy: 0.715\n",
      "Testing Pegasos SVM with lambda=1, epochs=20...\n",
      "Accuracy: 0.726\n",
      "Testing Pegasos SVM with lambda=1, epochs=50...\n",
      "Accuracy: 0.731\n",
      "\n",
      "Best Hyperparameters for Pegasos SVM:\n",
      "  lambda: 0.1\n",
      "  epochs: 20\n",
      "  Accuracy: 0.731\n"
     ]
    }
   ],
   "source": [
    "# Define the search space for hyperparameters\n",
    "lambda_values_pega = [0.001, 0.01, 0.1, 1]  # Regularization parameters to try\n",
    "epochs_values_pega = [5, 10, 20, 50]            # Number of epochs to try\n",
    "\n",
    "# Dictionary to store results of the grid search\n",
    "tuning_results_pegasos = {}\n",
    "\n",
    "# Perform grid search over lambda and epochs\n",
    "for lambda_param in lambda_values_pega:\n",
    "    for epochs in epochs_values_pega:\n",
    "        print(f\"Testing Pegasos SVM with lambda={lambda_param}, epochs={epochs}...\")\n",
    "        \n",
    "        # Perform 5-fold cross-validation\n",
    "        accuracy = k_fold_cross_validation(\n",
    "            df=train_scaled,\n",
    "            features=final_features,\n",
    "            target=target_col,\n",
    "            k=5,\n",
    "            random_state=42,\n",
    "            classifier_func=lambda tr_fold, vl_fold, f, t: pegasos_classifier_func(\n",
    "                tr_fold, vl_fold, f, t, lambda_param=lambda_param, epochs=epochs\n",
    "            )\n",
    "        )\n",
    "        \n",
    "        # Store the accuracy for this hyperparameter combination\n",
    "        tuning_results_pegasos[(lambda_param, epochs)] = accuracy\n",
    "        print(f\"Accuracy: {accuracy:.3f}\")\n",
    "\n",
    "# Find the best hyperparameter combination\n",
    "best_lambda_pega, best_epochs_pega = max(tuning_results_pegasos, key=tuning_results_pegasos.get)\n",
    "best_accuracy_pega = tuning_results_pegasos[(best_lambda_pega, best_epochs_pega)]\n",
    "\n",
    "print(\"\\nBest Hyperparameters for Pegasos SVM:\")\n",
    "print(f\"  lambda: {best_lambda_pega}\")\n",
    "print(f\"  epochs: {best_epochs_pega}\")\n",
    "print(f\"  Accuracy: {best_accuracy_pega:.3f}\")\n"
   ]
  },
  {
   "cell_type": "markdown",
   "metadata": {},
   "source": [
    "### Comparison of different subsets"
   ]
  },
  {
   "cell_type": "code",
   "execution_count": 16,
   "metadata": {},
   "outputs": [
    {
     "name": "stdout",
     "output_type": "stream",
     "text": [
      "\n",
      "Evaluating Pegasos SVM on subset: Features\n",
      "  Pegasos SVM Accuracy: 0.731\n"
     ]
    }
   ],
   "source": [
    "# Use the best hyperparameters found during tuning\n",
    "lambda_param_pega = best_lambda_pega\n",
    "epochs_pega = best_epochs_pega\n",
    "# Compare Pegasos SVM across feature subsets\n",
    "pegasos_results = {}\n",
    "\n",
    "for subset_name, subset_features in subsets.items():\n",
    "    print(f\"\\nEvaluating Pegasos SVM on subset: {subset_name}\")\n",
    "    \n",
    "    accuracy_pegasos = k_fold_cross_validation(\n",
    "        train_scaled,\n",
    "        features=subset_features,\n",
    "        target='y',\n",
    "        k=5,\n",
    "        random_state=42,\n",
    "        classifier_func=lambda tr_fold, vl_fold, f, t: pegasos_classifier_func(\n",
    "            tr_fold, vl_fold, f, t, lambda_param=lambda_param, epochs=epochs\n",
    "        )\n",
    "    )\n",
    "    \n",
    "    pegasos_results[subset_name] = accuracy_pegasos\n",
    "    print(f\"  Pegasos SVM Accuracy: {accuracy_pegasos:.3f}\")\n"
   ]
  },
  {
   "cell_type": "markdown",
   "metadata": {},
   "source": [
    "#### Measring accuracy of prediction\n",
    "\n",
    "By testing on test set"
   ]
  },
  {
   "cell_type": "code",
   "execution_count": 17,
   "metadata": {},
   "outputs": [
    {
     "name": "stdout",
     "output_type": "stream",
     "text": [
      "Pegasos final test accuracy: 0.709\n"
     ]
    }
   ],
   "source": [
    "theta_pega, theta0_pega = pegasos_train(\n",
    "    train_scaled,\n",
    "    features=final_features,\n",
    "    target=target_col,\n",
    "    epochs=5\n",
    ")\n",
    "test_preds_pega = pegasos_predict(\n",
    "    test_scaled,\n",
    "    features=final_features,\n",
    "    theta=theta_pega,\n",
    "    theta_0=theta0_pega\n",
    ")\n",
    "test_acc_pega = np.mean(test_preds_pega == test_scaled[target_col])\n",
    "print(f\"Pegasos final test accuracy: {test_acc_pega:.3f}\")\n"
   ]
  },
  {
   "cell_type": "markdown",
   "metadata": {},
   "source": [
    "## Logistic Regression"
   ]
  },
  {
   "cell_type": "markdown",
   "metadata": {},
   "source": [
    "Hyperparameter tuning"
   ]
  },
  {
   "cell_type": "code",
   "execution_count": 18,
   "metadata": {},
   "outputs": [
    {
     "name": "stdout",
     "output_type": "stream",
     "text": [
      "Testing Logistic Regression with lambda=0.01, epochs=1, eta=0.001...\n",
      "Accuracy: 0.714\n",
      "Testing Logistic Regression with lambda=0.01, epochs=1, eta=0.01...\n",
      "Accuracy: 0.718\n",
      "Testing Logistic Regression with lambda=0.01, epochs=1, eta=0.1...\n",
      "Accuracy: 0.724\n",
      "Testing Logistic Regression with lambda=0.01, epochs=1, eta=1.0...\n",
      "Accuracy: 0.715\n",
      "Testing Logistic Regression with lambda=0.01, epochs=5, eta=0.001...\n",
      "Accuracy: 0.715\n",
      "Testing Logistic Regression with lambda=0.01, epochs=5, eta=0.01...\n",
      "Accuracy: 0.723\n",
      "Testing Logistic Regression with lambda=0.01, epochs=5, eta=0.1...\n",
      "Accuracy: 0.723\n",
      "Testing Logistic Regression with lambda=0.01, epochs=5, eta=1.0...\n",
      "Accuracy: 0.718\n",
      "Testing Logistic Regression with lambda=0.01, epochs=10, eta=0.001...\n",
      "Accuracy: 0.714\n",
      "Testing Logistic Regression with lambda=0.01, epochs=10, eta=0.01...\n",
      "Accuracy: 0.721\n",
      "Testing Logistic Regression with lambda=0.01, epochs=10, eta=0.1...\n",
      "Accuracy: 0.723\n",
      "Testing Logistic Regression with lambda=0.01, epochs=10, eta=1.0...\n",
      "Accuracy: 0.723\n",
      "Testing Logistic Regression with lambda=0.01, epochs=50, eta=0.001...\n",
      "Accuracy: 0.718\n",
      "Testing Logistic Regression with lambda=0.01, epochs=50, eta=0.01...\n",
      "Accuracy: 0.723\n",
      "Testing Logistic Regression with lambda=0.01, epochs=50, eta=0.1...\n",
      "Accuracy: 0.723\n",
      "Testing Logistic Regression with lambda=0.01, epochs=50, eta=1.0...\n",
      "Accuracy: 0.723\n",
      "Testing Logistic Regression with lambda=0.1, epochs=1, eta=0.001...\n",
      "Accuracy: 0.714\n",
      "Testing Logistic Regression with lambda=0.1, epochs=1, eta=0.01...\n",
      "Accuracy: 0.718\n",
      "Testing Logistic Regression with lambda=0.1, epochs=1, eta=0.1...\n",
      "Accuracy: 0.724\n",
      "Testing Logistic Regression with lambda=0.1, epochs=1, eta=1.0...\n",
      "Accuracy: 0.715\n",
      "Testing Logistic Regression with lambda=0.1, epochs=5, eta=0.001...\n",
      "Accuracy: 0.715\n",
      "Testing Logistic Regression with lambda=0.1, epochs=5, eta=0.01...\n",
      "Accuracy: 0.722\n",
      "Testing Logistic Regression with lambda=0.1, epochs=5, eta=0.1...\n",
      "Accuracy: 0.723\n",
      "Testing Logistic Regression with lambda=0.1, epochs=5, eta=1.0...\n",
      "Accuracy: 0.718\n",
      "Testing Logistic Regression with lambda=0.1, epochs=10, eta=0.001...\n",
      "Accuracy: 0.714\n",
      "Testing Logistic Regression with lambda=0.1, epochs=10, eta=0.01...\n",
      "Accuracy: 0.722\n",
      "Testing Logistic Regression with lambda=0.1, epochs=10, eta=0.1...\n",
      "Accuracy: 0.724\n",
      "Testing Logistic Regression with lambda=0.1, epochs=10, eta=1.0...\n",
      "Accuracy: 0.723\n",
      "Testing Logistic Regression with lambda=0.1, epochs=50, eta=0.001...\n",
      "Accuracy: 0.718\n",
      "Testing Logistic Regression with lambda=0.1, epochs=50, eta=0.01...\n",
      "Accuracy: 0.725\n",
      "Testing Logistic Regression with lambda=0.1, epochs=50, eta=0.1...\n",
      "Accuracy: 0.723\n",
      "Testing Logistic Regression with lambda=0.1, epochs=50, eta=1.0...\n",
      "Accuracy: 0.723\n",
      "Testing Logistic Regression with lambda=1, epochs=1, eta=0.001...\n",
      "Accuracy: 0.714\n",
      "Testing Logistic Regression with lambda=1, epochs=1, eta=0.01...\n",
      "Accuracy: 0.720\n",
      "Testing Logistic Regression with lambda=1, epochs=1, eta=0.1...\n",
      "Accuracy: 0.728\n",
      "Testing Logistic Regression with lambda=1, epochs=1, eta=1.0...\n",
      "Accuracy: 0.689\n",
      "Testing Logistic Regression with lambda=1, epochs=5, eta=0.001...\n",
      "Accuracy: 0.715\n",
      "Testing Logistic Regression with lambda=1, epochs=5, eta=0.01...\n",
      "Accuracy: 0.725\n",
      "Testing Logistic Regression with lambda=1, epochs=5, eta=0.1...\n",
      "Accuracy: 0.729\n",
      "Testing Logistic Regression with lambda=1, epochs=5, eta=1.0...\n",
      "Accuracy: 0.707\n",
      "Testing Logistic Regression with lambda=1, epochs=10, eta=0.001...\n",
      "Accuracy: 0.714\n",
      "Testing Logistic Regression with lambda=1, epochs=10, eta=0.01...\n",
      "Accuracy: 0.727\n",
      "Testing Logistic Regression with lambda=1, epochs=10, eta=0.1...\n",
      "Accuracy: 0.728\n",
      "Testing Logistic Regression with lambda=1, epochs=10, eta=1.0...\n",
      "Accuracy: 0.725\n",
      "Testing Logistic Regression with lambda=1, epochs=50, eta=0.001...\n",
      "Accuracy: 0.719\n",
      "Testing Logistic Regression with lambda=1, epochs=50, eta=0.01...\n",
      "Accuracy: 0.729\n",
      "Testing Logistic Regression with lambda=1, epochs=50, eta=0.1...\n",
      "Accuracy: 0.730\n",
      "Testing Logistic Regression with lambda=1, epochs=50, eta=1.0...\n",
      "Accuracy: 0.726\n",
      "\n",
      "Best Hyperparameters for Logistic Regression:\n",
      "  lambda: 1\n",
      "  epochs: 50\n",
      "  eta: 0.1\n",
      "  Accuracy: 0.730\n"
     ]
    }
   ],
   "source": [
    "# Hyperparameter tuning for Logistic Regression\n",
    "# Define the search space for hyperparameters\n",
    "lambda_values_logreg = [0.01, 0.1, 1]  # Regularization parameters to try\n",
    "epochs_values_logreg = [1, 5, 10, 50]            # Number of epochs to try\n",
    "eta_values_logreg = [0.001, 0.01, 0.1, 1.0]          # Learning rates to try\n",
    "\n",
    "# Dictionary to store results of the grid search\n",
    "tuning_results_logreg = {}\n",
    "\n",
    "# Perform grid search over lambda, epochs, and eta\n",
    "for lambda_param in lambda_values_logreg:\n",
    "    for epochs in epochs_values_logreg:\n",
    "        for eta in eta_values_logreg:\n",
    "            print(f\"Testing Logistic Regression with lambda={lambda_param}, epochs={epochs}, eta={eta}...\")\n",
    "            \n",
    "            # Perform 5-fold cross-validation\n",
    "            accuracy = k_fold_cross_validation(\n",
    "                df=train_scaled,\n",
    "                features=final_features,\n",
    "                target=target_col,\n",
    "                k=5,\n",
    "                random_state=42,\n",
    "                classifier_func=lambda tr_fold, vl_fold, f, t: logistic_regression_classifier_func(\n",
    "                    tr_fold, vl_fold, f, t, lambda_param=lambda_param, epochs=epochs, eta=eta\n",
    "                )\n",
    "            )\n",
    "            \n",
    "            # Store the accuracy for this hyperparameter combination\n",
    "            tuning_results_logreg[(lambda_param, epochs, eta)] = accuracy\n",
    "            print(f\"Accuracy: {accuracy:.3f}\")\n",
    "\n",
    "# Find the best hyperparameter combination\n",
    "best_lambda_logreg, best_epochs_logreg, best_eta_logreg = max(tuning_results_logreg, key=tuning_results_logreg.get)\n",
    "best_accuracy_logreg = tuning_results_logreg[(best_lambda_logreg, best_epochs_logreg, best_eta_logreg)]\n",
    "\n",
    "print(\"\\nBest Hyperparameters for Logistic Regression:\")\n",
    "print(f\"  lambda: {best_lambda_logreg}\")\n",
    "print(f\"  epochs: {best_epochs_logreg}\")\n",
    "print(f\"  eta: {best_eta_logreg}\")\n",
    "print(f\"  Accuracy: {best_accuracy_logreg:.3f}\")\n"
   ]
  },
  {
   "cell_type": "code",
   "execution_count": 19,
   "metadata": {},
   "outputs": [
    {
     "name": "stdout",
     "output_type": "stream",
     "text": [
      "\n",
      "Evaluating Logistic Regression on subset: Features\n",
      "  Logistic Regression Accuracy: 0.724\n"
     ]
    }
   ],
   "source": [
    "# Define parameters for Logistic Regression\n",
    "lambda_param_logreg = best_lambda_logreg\n",
    "epochs_logreg = best_epochs_logreg\n",
    "eta_logreg = best_eta_logreg\n",
    "\n",
    "# Compare Logistic Regression across feature subsets\n",
    "logistic_results = {}\n",
    "\n",
    "for subset_name, subset_features in subsets.items():\n",
    "    print(f\"\\nEvaluating Logistic Regression on subset: {subset_name}\")\n",
    "    \n",
    "    accuracy_logistic = k_fold_cross_validation(\n",
    "        train_scaled,\n",
    "        features=subset_features,\n",
    "        target='y',\n",
    "        k=5,\n",
    "        random_state=42,\n",
    "        classifier_func=lambda tr_fold, vl_fold, f, t: logistic_regression_classifier_func(\n",
    "            tr_fold, vl_fold, f, t, lambda_param=lambda_param, epochs=epochs, eta=eta\n",
    "        )\n",
    "    )\n",
    "    logistic_results[subset_name] = accuracy_logistic\n",
    "    print(f\"  Logistic Regression Accuracy: {accuracy_logistic:.3f}\")\n"
   ]
  },
  {
   "cell_type": "code",
   "execution_count": 20,
   "metadata": {},
   "outputs": [
    {
     "name": "stdout",
     "output_type": "stream",
     "text": [
      "Logistic Regression final test accuracy: 0.708\n"
     ]
    }
   ],
   "source": [
    "# Train the Logistic Regression model\n",
    "theta_lr, theta0_lr = logistic_regression_train(\n",
    "    train_scaled,\n",
    "    features=final_features,\n",
    "    target=target_col,\n",
    "    lambda_param=0.01,  # Regularization parameter\n",
    "    epochs=5,\n",
    "    eta=1.0             # Learning rate\n",
    ")\n",
    "\n",
    "# Predict on the test set\n",
    "test_preds_lr = logistic_regression_predict(\n",
    "    test_scaled,\n",
    "    features=final_features,\n",
    "    theta=theta_lr,\n",
    "    theta_0=theta0_lr\n",
    ")\n",
    "\n",
    "# Compute accuracy\n",
    "test_acc_lr = np.mean(test_preds_lr == test_scaled[target_col])\n",
    "print(f\"Logistic Regression final test accuracy: {test_acc_lr:.3f}\")\n"
   ]
  },
  {
   "cell_type": "markdown",
   "metadata": {},
   "source": [
    "### Comparison"
   ]
  },
  {
   "cell_type": "code",
   "execution_count": 21,
   "metadata": {},
   "outputs": [
    {
     "name": "stdout",
     "output_type": "stream",
     "text": [
      "\n",
      "Comparison of Perceptron, Pegasos, and Logistic Regression on training set:\n"
     ]
    },
    {
     "data": {
      "text/html": [
       "<div>\n",
       "<style scoped>\n",
       "    .dataframe tbody tr th:only-of-type {\n",
       "        vertical-align: middle;\n",
       "    }\n",
       "\n",
       "    .dataframe tbody tr th {\n",
       "        vertical-align: top;\n",
       "    }\n",
       "\n",
       "    .dataframe thead th {\n",
       "        text-align: right;\n",
       "    }\n",
       "</style>\n",
       "<table border=\"1\" class=\"dataframe\">\n",
       "  <thead>\n",
       "    <tr style=\"text-align: right;\">\n",
       "      <th></th>\n",
       "      <th>Default Perceptron Loss</th>\n",
       "      <th>Tuned Perceptron Accuracy</th>\n",
       "      <th>Pegasos SVM Accuracy</th>\n",
       "      <th>Logistic Regression Accuracy</th>\n",
       "    </tr>\n",
       "  </thead>\n",
       "  <tbody>\n",
       "    <tr>\n",
       "      <th>Features</th>\n",
       "      <td>0.599741</td>\n",
       "      <td>0.700649</td>\n",
       "      <td>0.73061</td>\n",
       "      <td>0.723606</td>\n",
       "    </tr>\n",
       "  </tbody>\n",
       "</table>\n",
       "</div>"
      ],
      "text/plain": [
       "          Default Perceptron Loss  Tuned Perceptron Accuracy  \\\n",
       "Features                 0.599741                   0.700649   \n",
       "\n",
       "          Pegasos SVM Accuracy  Logistic Regression Accuracy  \n",
       "Features               0.73061                      0.723606  "
      ]
     },
     "metadata": {},
     "output_type": "display_data"
    },
    {
     "name": "stdout",
     "output_type": "stream",
     "text": [
      "\n",
      "Comparison of Perceptron, Pegasos, and Logistic Regression on test set:\n"
     ]
    },
    {
     "data": {
      "text/html": [
       "<div>\n",
       "<style scoped>\n",
       "    .dataframe tbody tr th:only-of-type {\n",
       "        vertical-align: middle;\n",
       "    }\n",
       "\n",
       "    .dataframe tbody tr th {\n",
       "        vertical-align: top;\n",
       "    }\n",
       "\n",
       "    .dataframe thead th {\n",
       "        text-align: right;\n",
       "    }\n",
       "</style>\n",
       "<table border=\"1\" class=\"dataframe\">\n",
       "  <thead>\n",
       "    <tr style=\"text-align: right;\">\n",
       "      <th></th>\n",
       "      <th>Perceptron (Default)</th>\n",
       "      <th>Perceptron (Tuned)</th>\n",
       "      <th>Pegasos SVM</th>\n",
       "      <th>Logistic Regression</th>\n",
       "    </tr>\n",
       "  </thead>\n",
       "  <tbody>\n",
       "    <tr>\n",
       "      <th>Test Set</th>\n",
       "      <td>0.61736</td>\n",
       "      <td>0.700649</td>\n",
       "      <td>0.709296</td>\n",
       "      <td>0.708269</td>\n",
       "    </tr>\n",
       "  </tbody>\n",
       "</table>\n",
       "</div>"
      ],
      "text/plain": [
       "          Perceptron (Default)  Perceptron (Tuned)  Pegasos SVM  \\\n",
       "Test Set               0.61736            0.700649     0.709296   \n",
       "\n",
       "          Logistic Regression  \n",
       "Test Set             0.708269  "
      ]
     },
     "metadata": {},
     "output_type": "display_data"
    }
   ],
   "source": [
    "# Combine results into a DataFrame\n",
    "comparison_with_logistic = pd.DataFrame({\n",
    "    \"Default Perceptron Loss\": [comparison_results[name][\"Default Perceptron\"] for name in subsets.keys()],\n",
    "    \"Tuned Perceptron Accuracy\": [comparison_results[name][\"Tuned Perceptron\"] for name in subsets.keys()],\n",
    "    \"Pegasos SVM Accuracy\": [pegasos_results[name] for name in subsets.keys()],\n",
    "    \"Logistic Regression Accuracy\": [logistic_results[name] for name in subsets.keys()]\n",
    "}, index=list(subsets.keys()))\n",
    "\n",
    "# Display the comparison table\n",
    "print(\"\\nComparison of Perceptron, Pegasos, and Logistic Regression on training set:\")\n",
    "display(comparison_with_logistic)\n",
    "\n",
    "# Comparison table on test set\n",
    "comparison_test = pd.DataFrame({\n",
    "    \"Perceptron (Default)\": [test_acc_perc],\n",
    "    \"Perceptron (Tuned)\": [comparison_results[\"Features\"][\"Tuned Perceptron\"]],\n",
    "    \"Pegasos SVM\": [test_acc_pega],\n",
    "    \"Logistic Regression\": [test_acc_lr]\n",
    "}, index=[\"Test Set\"])\n",
    "\n",
    "# Display the comparison table\n",
    "print(\"\\nComparison of Perceptron, Pegasos, and Logistic Regression on test set:\")\n",
    "display(comparison_test)\n",
    "\n"
   ]
  },
  {
    "cell_type": "code",
    "metadata": {},
    "outputs": [],
    "execution_count": null,
    "source": [
      "# %% [markdown]",
      "# ## Polynomial feature expansion\n",
      "\n",
      "# %%\n",
      "# NEW CODE: Expand the scaled data, then rescale the expanded features.\n",
      "from ffunctions import polynomial_feature_expansion, standard_scaler_fit, standard_scaler_transform\n",
      "\n",
      "# 1) Expand polynomial features on the *scaled* train and test data.\n",
      "train_poly_unscaled = polynomial_feature_expansion(train_scaled, final_features, degree=2, include_bias=False)\n",
      "test_poly_unscaled = polynomial_feature_expansion(test_scaled, final_features, degree=2, include_bias=False)\n",
      "\n",
      "# Identify which columns are the new polynomial features (exclude 'y').\n",
      "expanded_feature_cols = [col for col in train_poly_unscaled.columns if col != 'y']\n",
      "\n",
      "print(\"Polynomial expansion complete.\")\n",
      "print(\"Number of expanded features:\", len(expanded_feature_cols))\n",
      "print(\"Sample of expanded features:\", expanded_feature_cols[:10])\n",
      "\n",
      "# 2) Rescale these newly expanded features.\n",
      "# Fit on train_poly_unscaled, then transform train_poly_unscaled and test_poly_unscaled.\n",
      "means_poly, stds_poly = standard_scaler_fit(train_poly_unscaled, expanded_feature_cols)\n",
      "train_poly = standard_scaler_transform(train_poly_unscaled, expanded_feature_cols, means_poly, stds_poly)\n",
      "test_poly = standard_scaler_transform(test_poly_unscaled, expanded_feature_cols, means_poly, stds_poly)\n",
      "\n",
      "k = 5\n",
      "target_col = \"y\"\n",
      "\n",
      "# %% [markdown]",
      "# #### Perceptron algorithm with polynomial expansion\n",
      "\n",
      "# %%\n",
      "acc_perc_poly = k_fold_cross_validation(\n",
      "    df=train_poly,\n",
      "    features=expanded_feature_cols,\n",
      "    target=target_col,\n",
      "    k=k,\n",
      "    random_state=42,\n",
      "    classifier_func=lambda tr, vl, f, t: perceptron_classifier_func_eta(\n",
      "        tr, vl, f, t, epochs=best_epochs_perc, eta=best_eta_perc\n",
      "    )\n",
      ")\n",
      "\n",
      "theta_perc_poly, theta0_perc_poly = perceptron_train_eta(\n",
      "    train_poly, expanded_feature_cols, target_col,\n",
      "    epochs=best_epochs_perc, eta=best_eta_perc\n",
      ")\n",
      "test_preds_poly_perc = perceptron_predict(\n",
      "    test_poly, expanded_feature_cols, theta_perc_poly, theta0_perc_poly\n",
      ")\n",
      "test_acc_poly_perc = np.mean(test_preds_poly_perc == test_poly[target_col])\n",
      "\n",
      "print(\"\\nPerceptron + Poly => CV=%.3f, Test=%.3f\" % (acc_perc_poly, test_acc_poly_perc))\n",
      "best_hparams_table[\"PerceptronPoly\"][\"epochs\"] = best_epochs_perc\n",
      "best_hparams_table[\"PerceptronPoly\"][\"eta\"] = best_eta_perc\n",
      "best_hparams_table[\"PerceptronPoly\"][\"cv_accuracy\"] = acc_perc_poly\n",
      "\n",
      "# %% [markdown]",
      "# #### SVM with PE (Pegasos)\n",
      "\n",
      "# %%\n",
      "lambda_list_poly = [0.001, 0.01, 0.1]\n",
      "epochs_list_poly = [5, 10, 20]\n",
      "tuning_results_pegasos_poly = {}\n",
      "\n",
      "for lam in lambda_list_poly:\n",
      "    for ep in epochs_list_poly:\n",
      "        acc = k_fold_cross_validation(\n",
      "            df=train_poly,\n",
      "            features=expanded_feature_cols,\n",
      "            target=target_col,\n",
      "            k=5,\n",
      "            random_state=42,\n",
      "            classifier_func=lambda tr, vl, f, t: pegasos_classifier_func(\n",
      "                tr, vl, f, t, lambda_param=lam, epochs=ep\n",
      "            )\n",
      "        )\n",
      "        tuning_results_pegasos_poly[(lam, ep)] = acc\n",
      "\n",
      "best_lam_pega_poly, best_ep_pega_poly = max(tuning_results_pegasos_poly, key=tuning_results_pegasos_poly.get)\n",
      "acc_pega_poly = tuning_results_pegasos_poly[(best_lam_pega_poly, best_ep_pega_poly)]\n",
      "\n",
      "print(\"Pegasos + Poly best hyperparams =>\", (best_lam_pega_poly, best_ep_pega_poly), \"CV=\", acc_pega_poly)\n",
      "best_hparams_table[\"PegasosPoly\"][\"lambda\"] = best_lam_pega_poly\n",
      "best_hparams_table[\"PegasosPoly\"][\"epochs\"] = best_ep_pega_poly\n",
      "best_hparams_table[\"PegasosPoly\"][\"cv_accuracy\"] = acc_pega_poly\n",
      "\n",
      "# Train final Pegasos on polynomial\n",
      "theta_pega_poly, theta0_pega_poly = pegasos_train(\n",
      "    train_poly, expanded_feature_cols, target_col,\n",
      "    lambda_param=best_lam_pega_poly, epochs=best_ep_pega_poly\n",
      ")\n",
      "test_preds_pega_poly = pegasos_predict(\n",
      "    test_poly, expanded_feature_cols, theta_pega_poly, theta0_pega_poly\n",
      ")\n",
      "test_acc_pega_poly = np.mean(test_preds_pega_poly == test_poly[target_col])\n",
      "print(f\"Pegasos + Poly final test accuracy: {test_acc_pega_poly:.3f}\")\n",
      "\n",
      "# %% [markdown]",
      "# #### Logistic Regression with PE\n",
      "# Training set cross validation:\n",
      "\n",
      "# %%\n",
      "acc_logreg_poly = k_fold_cross_validation(\n",
      "    df=train_poly,\n",
      "    features=expanded_feature_cols,\n",
      "    target=target_col,\n",
      "    k=5,\n",
      "    random_state=42,\n",
      "    classifier_func=lambda tr, vl, f, t: logistic_regression_classifier_func(\n",
      "        tr, vl, f, t,\n",
      "        lambda_param=best_lam_logreg,\n",
      "        epochs=best_ep_logreg,\n",
      "        eta=best_eta_logreg\n",
      "    )\n",
      ")\n",
      "\n",
      "theta_logreg_poly, theta0_logreg_poly = logistic_regression_train(\n",
      "    train_poly, expanded_feature_cols, target_col,\n",
      "    lambda_param=best_lam_logreg,\n",
      "    epochs=best_ep_logreg,\n",
      "    eta=best_eta_logreg\n",
      ")\n",
      "test_preds_logreg_poly = logistic_regression_predict(\n",
      "    test_poly, expanded_feature_cols, theta_logreg_poly, theta0_logreg_poly\n",
      ")\n",
      "test_acc_logreg_poly = np.mean(test_preds_logreg_poly == test_poly[target_col])\n",
      "\n",
      "print(\"LogReg + Poly => CV=%.3f, Test=%.3f\" % (acc_logreg_poly, test_acc_logreg_poly))\n",
      "best_hparams_table[\"LogisticPoly\"][\"lambda\"] = best_lam_logreg\n",
      "best_hparams_table[\"LogisticPoly\"][\"epochs\"] = best_ep_logreg\n",
      "best_hparams_table[\"LogisticPoly\"][\"eta\"] = best_eta_logreg\n",
      "best_hparams_table[\"LogisticPoly\"][\"cv_accuracy\"] = acc_logreg_poly\n",
      "\n",
      "# %% [markdown]",
      "# #### Results\n",
      "\n",
      "# %%\n",
      "print(\"\\n=== Polynomial-Expanded Feature Set Accuracies ===\")\n",
      "print(f\"Perceptron (poly) CV: {acc_perc_poly:.3f},  Test: {test_acc_poly_perc:.3f}\")\n",
      "print(f\"Pegasos (poly)    CV: {acc_pega_poly:.3f}, Test: {test_acc_pega_poly:.3f}\")\n",
      "print(f\"LogReg (poly)     CV: {acc_logreg_poly:.3f},  Test: {test_acc_logreg_poly:.3f}\")\n",
      "\n",
      "# %% [markdown]",
      "# #### Compare to Linear (Non-Expanded) Results\n",
      "# We already have our linear results for Perceptron, Pegasos, and Logistic from previous cells.\n",
      "\n",
      "# %%\n",
      "comparison_poly = pd.DataFrame({\n",
      "    \"Linear\": [accuracy_perc, accuracy_pegasos, accuracy_logreg],\n",
      "    \"Polynomial(2)\": [acc_perc_poly, acc_pega_poly, acc_logreg_poly]\n",
      "}, index=[\"Perceptron\", \"Pegasos\", \"Logistic\"])\n",
      "\n",
      "print(\"Comparison of Linear vs Polynomial(2) feature sets:\")\n",
      "display(comparison_poly)\n",
      "\n",
      "# %% [markdown]\n",
      "# #### Comparison Plot\n",
      "\n",
      "# %%\n",
      "models = [\"Perceptron\", \"Pegasos\", \"Logistic\"]\n",
      "linear_accs = comparison_poly[\"Linear\"].values\n",
      "poly_accs   = comparison_poly[\"Polynomial(2)\"].values\n",
      "x = np.arange(len(models))\n",
      "width = 0.35\n",
      "\n",
      "plt.figure(figsize=(8,4))\n",
      "plt.bar(x - width/2, linear_accs,  width, label='Linear')\n",
      "plt.bar(x + width/2, poly_accs,    width, label='Polynomial(2)')\n",
      "plt.xticks(x, models)\n",
      "plt.ylabel('CV Accuracy')\n",
      "plt.title('Linear vs. Polynomial(2) Feature Expansion')\n",
      "plt.ylim([0, 1])\n",
      "plt.legend()\n",
      "plt.tight_layout()\n",
      "plt.show()\n",
      "\n",
      "# comparison plot that shows the accuracy of the models on the test set\n",
      "models = [\"Perceptron\", \"Pegasos\", \"Logistic\"]\n",
      "linear_accs_test = [test_acc_perc, test_acc_pega, test_acc_lr]\n",
      "poly_accs_test   = [test_acc_poly_perc, test_acc_pega_poly, test_acc_logreg_poly]\n",
      "\n",
      "plt.figure(figsize=(8,4))\n",
      "plt.bar(x - width/2, linear_accs_test,  width, label='Linear')\n",
      "plt.bar(x + width/2, poly_accs_test,    width, label='Polynomial(2)')\n",
      "plt.xticks(x, models)\n",
      "plt.ylabel('Test Accuracy')\n",
      "plt.title('Linear vs. Polynomial(2) Feature Expansion')\n",
      "plt.ylim([0, 1])\n",
      "plt.legend()\n",
      "plt.tight_layout()\n",
      "plt.show()\n",
      "\n",
      "# %% [markdown]",
      "# #### Weights inspection\n",
      "\n",
      "# %%\n",
      "theta_perc_poly, theta_0_perc_poly = perceptron_train(\n",
      "    train_poly, \n",
      "    features=expanded_feature_cols, \n",
      "    target=target_col,\n",
      "    epochs=5\n",
      ")\n",
      "print(f\"Perceptron (poly) final model trained on entire train_poly. Bias (theta_0)= {theta_0_perc_poly:.3f}\")\n",
      "\n",
      "weights_df = pd.DataFrame({\n",
      "    \"Feature\": expanded_feature_cols,\n",
      "    \"Weight\": theta_perc_poly,\n",
      "}).sort_values(by=\"Weight\", ascending=False)\n",
      "\n",
      "print(\"\\nTop 10 Positive Weights:\")\n",
      "display(weights_df.head(10))\n",
      "\n",
      "print(\"\\nTop 10 Negative Weights:\")\n",
      "display(weights_df.tail(10))\n",
      "\n",
      "# Pegasos\n",
      "theta_pegasos_poly, theta_0_pegasos_poly = pegasos_train(\n",
      "    train_poly,\n",
      "    features=expanded_feature_cols,\n",
      "    target=target_col,\n",
      "    lambda_param=0.01,\n",
      "    epochs=5\n",
      ")\n",
      "print(f\"Pegasos (poly) final model trained on entire train_poly. Bias (theta_0) = {theta_0_pegasos_poly:.3f}\")\n",
      "\n",
      "weights_df = pd.DataFrame({\n",
      "    \"Feature\": expanded_feature_cols,\n",
      "    \"Weight\": theta_pegasos_poly\n",
      "}).sort_values(by=\"Weight\", ascending=False)\n",
      "\n",
      "print(\"\\nTop 10 Positive Weights:\")\n",
      "display(weights_df.head(10))\n",
      "\n",
      "print(\"\\nTop 10 Negative Weights:\")\n",
      "display(weights_df.tail(10))\n",
      "\n",
      "# (Similarly for Logistic)\n",
      "# If you want to do logistic weight inspection on the final logistic params,\n",
      "# just run logistic_regression_train on train_poly with the best hyperparams,\n",
      "# then create a DataFrame of weights and display.\n",
      "\n",
      "print(\"\\n=== Weights inspection complete ===\")\n"
    ]
  },  
  {
   "cell_type": "markdown",
   "metadata": {},
   "source": [
    "## Polynomial feature expansion"
   ]
  },
  {
   "cell_type": "code",
   "execution_count": 22,
   "metadata": {},
   "outputs": [
    {
     "name": "stdout",
     "output_type": "stream",
     "text": [
      "Polynomial expansion complete.\n",
      "Number of expanded features: 46\n",
      "Sample of expanded features: ['x1', 'x2', 'x4', 'x5', 'x7', 'x8', 'x9', 'x10', 'x1^2', 'x2^2']\n"
     ]
    }
   ],
   "source": [
    "# Expand the *scaled training data* (train_scaled) and *scaled test data* (test_scaled)\n",
    "# using the \"final_features\" that excludes x3 and x6, as determined earlier.\n",
    "\n",
    "train_poly = polynomial_feature_expansion(train_scaled, final_features, degree=2, include_bias=False)\n",
    "test_poly = polynomial_feature_expansion(test_scaled, final_features, degree=2, include_bias=False)\n",
    "\n",
    "# Identify which columns are the new polynomial features (exclude the 'y' column)\n",
    "expanded_feature_cols = [col for col in train_poly.columns if col != 'y']\n",
    "\n",
    "print(\"Polynomial expansion complete.\")\n",
    "print(\"Number of expanded features:\", len(expanded_feature_cols))\n",
    "print(\"Sample of expanded features:\", expanded_feature_cols[:10])  # Just show a few"
   ]
  },
  {
   "cell_type": "code",
   "execution_count": 23,
   "metadata": {},
   "outputs": [],
   "source": [
    "k = 5\n",
    "target_col = \"y\""
   ]
  },
  {
   "cell_type": "markdown",
   "metadata": {},
   "source": [
    "#### Perceptron algorithm with polynomial expansion"
   ]
  },
  {
   "cell_type": "markdown",
   "metadata": {},
   "source": [
    "Training on training set:"
   ]
  },
  {
   "cell_type": "code",
   "execution_count": 24,
   "metadata": {},
   "outputs": [],
   "source": [
    "acc_perc_poly = k_fold_cross_validation(\n",
    "    df=train_poly,\n",
    "    features=expanded_feature_cols,\n",
    "    target=target_col,\n",
    "    k=k,\n",
    "    random_state=42,\n",
    "    classifier_func=lambda tr_fold, vl_fold, f, t: perceptron_classifier_func_eta(\n",
    "        tr_fold, vl_fold, f, t, epochs=best_epochs_perc, eta=best_eta_perc\n",
    "    )\n",
    ")\n"
   ]
  },
  {
   "cell_type": "markdown",
   "metadata": {},
   "source": [
    "Predicting on test_set:"
   ]
  },
  {
   "cell_type": "code",
   "execution_count": 25,
   "metadata": {},
   "outputs": [],
   "source": [
    "theta_perc_poly, theta0_perc_poly = perceptron_train(\n",
    "    train_poly,\n",
    "    features=expanded_feature_cols,\n",
    "    target=target_col,\n",
    "    epochs=best_epochs_perc\n",
    ")\n",
    "\n",
    "test_preds_perc_poly = perceptron_predict(\n",
    "    test_poly,\n",
    "    features=expanded_feature_cols,\n",
    "    theta=theta_perc_poly,\n",
    "    theta_0=theta0_perc_poly\n",
    ")\n",
    "\n",
    "test_acc_poly_perc = np.mean(test_preds_perc_poly == test_poly[target_col])"
   ]
  },
  {
   "cell_type": "markdown",
   "metadata": {},
   "source": [
    "#### SVM with PE"
   ]
  },
  {
   "cell_type": "code",
   "execution_count": 26,
   "metadata": {},
   "outputs": [],
   "source": [
    "acc_pegasos_poly = k_fold_cross_validation(\n",
    "    df=train_poly,\n",
    "    features=expanded_feature_cols,\n",
    "    target=target_col,\n",
    "    k=k,\n",
    "    random_state=42,\n",
    "    classifier_func=lambda tr_fold, vl_fold, f, t: pegasos_classifier_func(\n",
    "        tr_fold, vl_fold, f, t, lambda_param=best_lambda_pega, epochs=best_epochs_pega\n",
    "    )\n",
    ")"
   ]
  },
  {
   "cell_type": "markdown",
   "metadata": {},
   "source": [
    "Predicting on test set:"
   ]
  },
  {
   "cell_type": "code",
   "execution_count": 27,
   "metadata": {},
   "outputs": [],
   "source": [
    "theta_pega_poly, theta0_pega_poly = pegasos_train(\n",
    "    train_poly,\n",
    "    features=expanded_feature_cols,\n",
    "    target=target_col,\n",
    "    lambda_param=0.01,\n",
    "    epochs=5\n",
    ")\n",
    "\n",
    "test_preds_pega_poly = pegasos_predict(\n",
    "    test_poly,\n",
    "    features=expanded_feature_cols,\n",
    "    theta=theta_pega_poly,\n",
    "    theta_0=theta0_pega_poly\n",
    ")\n",
    "\n",
    "test_acc_poly_pega = np.mean(test_preds_pega_poly == test_poly[target_col])"
   ]
  },
  {
   "cell_type": "markdown",
   "metadata": {},
   "source": [
    "#### Logistic Regression with PE"
   ]
  },
  {
   "cell_type": "markdown",
   "metadata": {},
   "source": [
    "Training set cross validation:"
   ]
  },
  {
   "cell_type": "code",
   "execution_count": 50,
   "metadata": {},
   "outputs": [],
   "source": [
    "acc_logreg_poly = k_fold_cross_validation(\n",
    "    df=train_poly,\n",
    "    features=expanded_feature_cols,\n",
    "    target=target_col,\n",
    "    k=k,\n",
    "    random_state=42,\n",
    "    classifier_func=lambda tr_fold, vl_fold, f, t: logistic_regression_classifier_func(\n",
    "        tr_fold, vl_fold, f, t, lambda_param=0.01, epochs=5, eta=1.0\n",
    "    )\n",
    ")"
   ]
  },
  {
   "cell_type": "markdown",
   "metadata": {},
   "source": [
    "Predicting on test set:"
   ]
  },
  {
   "cell_type": "code",
   "execution_count": 29,
   "metadata": {},
   "outputs": [],
   "source": [
    "# 2. Logistic Regression (Polynomial Features)\n",
    "# Let's reuse the same lambda_param=0.01, epochs=5, eta=1.0 as before\n",
    "theta_logreg_poly, theta0_logreg_poly = logistic_regression_train(\n",
    "    train_poly,\n",
    "    features=expanded_feature_cols,\n",
    "    target=target_col,\n",
    "    lambda_param=0.01,\n",
    "    epochs=5,\n",
    "    eta=1.0\n",
    ")\n",
    "\n",
    "test_preds_logreg_poly = logistic_regression_predict(\n",
    "    test_poly,\n",
    "    features=expanded_feature_cols,\n",
    "    theta=theta_logreg_poly,\n",
    "    theta_0=theta0_logreg_poly\n",
    ")\n",
    "\n",
    "test_acc_logreg_poly = np.mean(test_preds_logreg_poly == test_poly[target_col])"
   ]
  },
  {
   "cell_type": "markdown",
   "metadata": {},
   "source": [
    "#### Results"
   ]
  },
  {
   "cell_type": "code",
   "execution_count": 30,
   "metadata": {},
   "outputs": [
    {
     "name": "stdout",
     "output_type": "stream",
     "text": [
      "\n",
      "=== Polynomial-Expanded Feature Set ===\n",
      "Perceptron (poly) 5-fold CV Accuracy: 0.929\n",
      "Pegasos (poly)    5-fold CV Accuracy: 0.902\n",
      "LogReg  (poly)    5-fold CV Accuracy: 0.933\n",
      "\n",
      "=== Final Test Accuracies on Polynomial-Expanded Features ===\n",
      "Perceptron (poly):       0.917\n",
      "Logistic Regression (poly): 0.925\n",
      "Pegasos (poly):          0.921\n"
     ]
    }
   ],
   "source": [
    "print(\"\\n=== Polynomial-Expanded Feature Set ===\")\n",
    "print(f\"Perceptron (poly) {k}-fold CV Accuracy: {acc_perc_poly:.3f}\")\n",
    "print(f\"Pegasos (poly)    {k}-fold CV Accuracy: {acc_pegasos_poly:.3f}\")\n",
    "print(f\"LogReg  (poly)    {k}-fold CV Accuracy: {acc_logreg_poly:.3f}\")\n",
    "\n",
    "print(\"\\n=== Final Test Accuracies on Polynomial-Expanded Features ===\")\n",
    "print(f\"Perceptron (poly):       {test_acc_poly_perc:.3f}\")\n",
    "print(f\"Logistic Regression (poly): {test_acc_logreg_poly:.3f}\")\n",
    "print(f\"Pegasos (poly):          {test_acc_poly_pega:.3f}\")\n"
   ]
  },
  {
   "cell_type": "markdown",
   "metadata": {},
   "source": [
    "#### Compare to Linear (Non-Expanded) Results\n",
    " \n",
    "We already have our linear results for Perceptron, Pegasos, and Logistic from previous cells:\n",
    "- `accuracy_perc`, `accuracy_pegasos`, `accuracy_logreg` (5-fold on linear features).\n",
    " \n",
    "Let's create a small summary:"
   ]
  },
  {
   "cell_type": "code",
   "execution_count": 31,
   "metadata": {},
   "outputs": [
    {
     "name": "stdout",
     "output_type": "stream",
     "text": [
      "Comparison of Linear vs Polynomial(2) feature sets:\n"
     ]
    },
    {
     "data": {
      "text/html": [
       "<div>\n",
       "<style scoped>\n",
       "    .dataframe tbody tr th:only-of-type {\n",
       "        vertical-align: middle;\n",
       "    }\n",
       "\n",
       "    .dataframe tbody tr th {\n",
       "        vertical-align: top;\n",
       "    }\n",
       "\n",
       "    .dataframe thead th {\n",
       "        text-align: right;\n",
       "    }\n",
       "</style>\n",
       "<table border=\"1\" class=\"dataframe\">\n",
       "  <thead>\n",
       "    <tr style=\"text-align: right;\">\n",
       "      <th></th>\n",
       "      <th>Linear</th>\n",
       "      <th>Polynomial(2)</th>\n",
       "    </tr>\n",
       "  </thead>\n",
       "  <tbody>\n",
       "    <tr>\n",
       "      <th>Perceptron</th>\n",
       "      <td>0.617639</td>\n",
       "      <td>0.928664</td>\n",
       "    </tr>\n",
       "    <tr>\n",
       "      <th>Pegasos</th>\n",
       "      <td>0.730610</td>\n",
       "      <td>0.902205</td>\n",
       "    </tr>\n",
       "    <tr>\n",
       "      <th>Logistic</th>\n",
       "      <td>0.717510</td>\n",
       "      <td>0.932815</td>\n",
       "    </tr>\n",
       "  </tbody>\n",
       "</table>\n",
       "</div>"
      ],
      "text/plain": [
       "              Linear  Polynomial(2)\n",
       "Perceptron  0.617639       0.928664\n",
       "Pegasos     0.730610       0.902205\n",
       "Logistic    0.717510       0.932815"
      ]
     },
     "metadata": {},
     "output_type": "display_data"
    }
   ],
   "source": [
    "comparison_poly = pd.DataFrame({\n",
    "    \"Linear\": [accuracy_perc, accuracy_pegasos, accuracy_logreg],\n",
    "    \"Polynomial(2)\": [acc_perc_poly, acc_pegasos_poly, acc_logreg_poly]\n",
    "}, index=[\"Perceptron\", \"Pegasos\", \"Logistic\"])\n",
    "\n",
    "print(\"Comparison of Linear vs Polynomial(2) feature sets:\")\n",
    "display(comparison_poly)"
   ]
  },
  {
   "cell_type": "markdown",
   "metadata": {},
   "source": [
    "#### Comparison Plot"
   ]
  },
  {
   "cell_type": "code",
   "execution_count": 32,
   "metadata": {},
   "outputs": [
    {
     "data": {
      "image/png": "[encoded data removed]",
      "text/plain": [
       "<Figure size 800x400 with 1 Axes>"
      ]
     },
     "metadata": {},
     "output_type": "display_data"
    }
   ],
   "source": [
    "models = [\"Perceptron\", \"Pegasos\", \"Logistic\"]\n",
    "linear_accs = comparison_poly[\"Linear\"].values\n",
    "poly_accs   = comparison_poly[\"Polynomial(2)\"].values\n",
    "x = np.arange(len(models))\n",
    "width = 0.35\n",
    "\n",
    "plt.figure(figsize=(8,4))\n",
    "plt.bar(x - width/2, linear_accs,  width, label='Linear')\n",
    "plt.bar(x + width/2, poly_accs,    width, label='Polynomial(2)')\n",
    "plt.xticks(x, models)\n",
    "plt.ylabel('CV Accuracy')\n",
    "plt.title('Linear vs. Polynomial(2) Feature Expansion')\n",
    "plt.ylim([0, 1])\n",
    "plt.legend()\n",
    "plt.tight_layout()\n",
    "plt.show()"
   ]
  },
  {
   "cell_type": "code",
   "execution_count": 33,
   "metadata": {},
   "outputs": [
    {
     "data": {
      "image/png": "[encoded data removed]",
      "text/plain": [
       "<Figure size 800x400 with 1 Axes>"
      ]
     },
     "metadata": {},
     "output_type": "display_data"
    }
   ],
   "source": [
    "# comparison plot that shows the accuracy of the models on the test set\n",
    "\n",
    "models = [\"Perceptron\", \"Pegasos\", \"Logistic\"]\n",
    "linear_accs = [test_acc_perc, test_acc_pega, test_acc_lr]\n",
    "poly_accs   = [test_acc_poly_perc, test_acc_poly_pega, test_acc_logreg_poly]\n",
    "x = np.arange(len(models))\n",
    "\n",
    "plt.figure(figsize=(8,4))\n",
    "plt.bar(x - width/2, linear_accs,  width, label='Linear')\n",
    "plt.bar(x + width/2, poly_accs,    width, label='Polynomial(2)')\n",
    "plt.xticks(x, models)\n",
    "plt.ylabel('Test Accuracy')\n",
    "plt.title('Linear vs. Polynomial(2) Feature Expansion')\n",
    "plt.ylim([0, 1])\n",
    "plt.legend()\n",
    "plt.tight_layout()\n",
    "plt.show()\n",
    "\n"
   ]
  },
  {
   "cell_type": "markdown",
   "metadata": {},
   "source": [
    "#### Weights inspection"
   ]
  },
  {
   "cell_type": "code",
   "execution_count": 34,
   "metadata": {},
   "outputs": [
    {
     "name": "stdout",
     "output_type": "stream",
     "text": [
      "Perceptron (poly) final model trained on entire train_poly. Bias (theta_0)= -18.000\n",
      "\n",
      "Top 10 Positive Weights:\n"
     ]
    },
    {
     "data": {
      "text/html": [
       "<div>\n",
       "<style scoped>\n",
       "    .dataframe tbody tr th:only-of-type {\n",
       "        vertical-align: middle;\n",
       "    }\n",
       "\n",
       "    .dataframe tbody tr th {\n",
       "        vertical-align: top;\n",
       "    }\n",
       "\n",
       "    .dataframe thead th {\n",
       "        text-align: right;\n",
       "    }\n",
       "</style>\n",
       "<table border=\"1\" class=\"dataframe\">\n",
       "  <thead>\n",
       "    <tr style=\"text-align: right;\">\n",
       "      <th></th>\n",
       "      <th>Feature</th>\n",
       "      <th>Weight</th>\n",
       "    </tr>\n",
       "  </thead>\n",
       "  <tbody>\n",
       "    <tr>\n",
       "      <th>27</th>\n",
       "      <td>x2*x9</td>\n",
       "      <td>136.522233</td>\n",
       "    </tr>\n",
       "    <tr>\n",
       "      <th>5</th>\n",
       "      <td>x8</td>\n",
       "      <td>74.202839</td>\n",
       "    </tr>\n",
       "    <tr>\n",
       "      <th>20</th>\n",
       "      <td>x1*x8</td>\n",
       "      <td>41.627963</td>\n",
       "    </tr>\n",
       "    <tr>\n",
       "      <th>6</th>\n",
       "      <td>x9</td>\n",
       "      <td>32.383650</td>\n",
       "    </tr>\n",
       "    <tr>\n",
       "      <th>3</th>\n",
       "      <td>x5</td>\n",
       "      <td>28.378988</td>\n",
       "    </tr>\n",
       "    <tr>\n",
       "      <th>4</th>\n",
       "      <td>x7</td>\n",
       "      <td>24.573826</td>\n",
       "    </tr>\n",
       "    <tr>\n",
       "      <th>0</th>\n",
       "      <td>x1</td>\n",
       "      <td>13.552737</td>\n",
       "    </tr>\n",
       "    <tr>\n",
       "      <th>7</th>\n",
       "      <td>x10</td>\n",
       "      <td>10.522016</td>\n",
       "    </tr>\n",
       "    <tr>\n",
       "      <th>16</th>\n",
       "      <td>x1*x2</td>\n",
       "      <td>9.633112</td>\n",
       "    </tr>\n",
       "    <tr>\n",
       "      <th>23</th>\n",
       "      <td>x2*x4</td>\n",
       "      <td>8.616938</td>\n",
       "    </tr>\n",
       "  </tbody>\n",
       "</table>\n",
       "</div>"
      ],
      "text/plain": [
       "   Feature      Weight\n",
       "27   x2*x9  136.522233\n",
       "5       x8   74.202839\n",
       "20   x1*x8   41.627963\n",
       "6       x9   32.383650\n",
       "3       x5   28.378988\n",
       "4       x7   24.573826\n",
       "0       x1   13.552737\n",
       "7      x10   10.522016\n",
       "16   x1*x2    9.633112\n",
       "23   x2*x4    8.616938"
      ]
     },
     "metadata": {},
     "output_type": "display_data"
    },
    {
     "name": "stdout",
     "output_type": "stream",
     "text": [
      "\n",
      "Top 10 Negative Weights:\n"
     ]
    },
    {
     "data": {
      "text/html": [
       "<div>\n",
       "<style scoped>\n",
       "    .dataframe tbody tr th:only-of-type {\n",
       "        vertical-align: middle;\n",
       "    }\n",
       "\n",
       "    .dataframe tbody tr th {\n",
       "        vertical-align: top;\n",
       "    }\n",
       "\n",
       "    .dataframe thead th {\n",
       "        text-align: right;\n",
       "    }\n",
       "</style>\n",
       "<table border=\"1\" class=\"dataframe\">\n",
       "  <thead>\n",
       "    <tr style=\"text-align: right;\">\n",
       "      <th></th>\n",
       "      <th>Feature</th>\n",
       "      <th>Weight</th>\n",
       "    </tr>\n",
       "  </thead>\n",
       "  <tbody>\n",
       "    <tr>\n",
       "      <th>33</th>\n",
       "      <td>x4*x10</td>\n",
       "      <td>-3.441462</td>\n",
       "    </tr>\n",
       "    <tr>\n",
       "      <th>35</th>\n",
       "      <td>x5*x8</td>\n",
       "      <td>-4.386635</td>\n",
       "    </tr>\n",
       "    <tr>\n",
       "      <th>40</th>\n",
       "      <td>x7*x10</td>\n",
       "      <td>-4.399493</td>\n",
       "    </tr>\n",
       "    <tr>\n",
       "      <th>11</th>\n",
       "      <td>x5^2</td>\n",
       "      <td>-6.193885</td>\n",
       "    </tr>\n",
       "    <tr>\n",
       "      <th>13</th>\n",
       "      <td>x8^2</td>\n",
       "      <td>-7.196528</td>\n",
       "    </tr>\n",
       "    <tr>\n",
       "      <th>8</th>\n",
       "      <td>x1^2</td>\n",
       "      <td>-8.725671</td>\n",
       "    </tr>\n",
       "    <tr>\n",
       "      <th>45</th>\n",
       "      <td>x6</td>\n",
       "      <td>-8.816808</td>\n",
       "    </tr>\n",
       "    <tr>\n",
       "      <th>17</th>\n",
       "      <td>x1*x4</td>\n",
       "      <td>-12.221037</td>\n",
       "    </tr>\n",
       "    <tr>\n",
       "      <th>2</th>\n",
       "      <td>x4</td>\n",
       "      <td>-23.249236</td>\n",
       "    </tr>\n",
       "    <tr>\n",
       "      <th>31</th>\n",
       "      <td>x4*x8</td>\n",
       "      <td>-49.045709</td>\n",
       "    </tr>\n",
       "  </tbody>\n",
       "</table>\n",
       "</div>"
      ],
      "text/plain": [
       "   Feature     Weight\n",
       "33  x4*x10  -3.441462\n",
       "35   x5*x8  -4.386635\n",
       "40  x7*x10  -4.399493\n",
       "11    x5^2  -6.193885\n",
       "13    x8^2  -7.196528\n",
       "8     x1^2  -8.725671\n",
       "45      x6  -8.816808\n",
       "17   x1*x4 -12.221037\n",
       "2       x4 -23.249236\n",
       "31   x4*x8 -49.045709"
      ]
     },
     "metadata": {},
     "output_type": "display_data"
    }
   ],
   "source": [
    "theta_perc_poly, theta_0_perc_poly = perceptron_train(\n",
    "    train_poly, \n",
    "    features = expanded_feature_cols, \n",
    "    target = target_col,\n",
    "    epochs = 5\n",
    ")\n",
    "print(f\"Perceptron (poly) final model trained on entire train_poly. Bias (theta_0)= {theta_0_perc_poly:.3f}\")\n",
    "\n",
    "weights_df = pd.DataFrame({\n",
    "    \"Feature\": expanded_feature_cols,\n",
    "    \"Weight\": theta_perc_poly,\n",
    "}).sort_values(by=\"Weight\", ascending=False)\n",
    "\n",
    "# Show top 10 positive weights and top 10 negative weights\n",
    "print(\"\\nTop 10 Positive Weights:\")\n",
    "display(weights_df.head(10))\n",
    "\n",
    "print(\"\\nTop 10 Negative Weights:\")\n",
    "display(weights_df.tail(10))"
   ]
  },
  {
   "cell_type": "code",
   "execution_count": 35,
   "metadata": {},
   "outputs": [
    {
     "name": "stdout",
     "output_type": "stream",
     "text": [
      "Pegasos (poly) final model trained on entire train_poly. Bias (theta_0) = -0.861\n",
      "\n",
      "Top 10 Positive Weights:\n"
     ]
    },
    {
     "data": {
      "text/html": [
       "<div>\n",
       "<style scoped>\n",
       "    .dataframe tbody tr th:only-of-type {\n",
       "        vertical-align: middle;\n",
       "    }\n",
       "\n",
       "    .dataframe tbody tr th {\n",
       "        vertical-align: top;\n",
       "    }\n",
       "\n",
       "    .dataframe thead th {\n",
       "        text-align: right;\n",
       "    }\n",
       "</style>\n",
       "<table border=\"1\" class=\"dataframe\">\n",
       "  <thead>\n",
       "    <tr style=\"text-align: right;\">\n",
       "      <th></th>\n",
       "      <th>Feature</th>\n",
       "      <th>Weight</th>\n",
       "    </tr>\n",
       "  </thead>\n",
       "  <tbody>\n",
       "    <tr>\n",
       "      <th>27</th>\n",
       "      <td>x2*x9</td>\n",
       "      <td>2.660367</td>\n",
       "    </tr>\n",
       "    <tr>\n",
       "      <th>5</th>\n",
       "      <td>x8</td>\n",
       "      <td>1.529776</td>\n",
       "    </tr>\n",
       "    <tr>\n",
       "      <th>20</th>\n",
       "      <td>x1*x8</td>\n",
       "      <td>0.872772</td>\n",
       "    </tr>\n",
       "    <tr>\n",
       "      <th>6</th>\n",
       "      <td>x9</td>\n",
       "      <td>0.600717</td>\n",
       "    </tr>\n",
       "    <tr>\n",
       "      <th>3</th>\n",
       "      <td>x5</td>\n",
       "      <td>0.581430</td>\n",
       "    </tr>\n",
       "    <tr>\n",
       "      <th>4</th>\n",
       "      <td>x7</td>\n",
       "      <td>0.502816</td>\n",
       "    </tr>\n",
       "    <tr>\n",
       "      <th>0</th>\n",
       "      <td>x1</td>\n",
       "      <td>0.439973</td>\n",
       "    </tr>\n",
       "    <tr>\n",
       "      <th>16</th>\n",
       "      <td>x1*x2</td>\n",
       "      <td>0.158607</td>\n",
       "    </tr>\n",
       "    <tr>\n",
       "      <th>35</th>\n",
       "      <td>x5*x8</td>\n",
       "      <td>0.144820</td>\n",
       "    </tr>\n",
       "    <tr>\n",
       "      <th>9</th>\n",
       "      <td>x2^2</td>\n",
       "      <td>0.135864</td>\n",
       "    </tr>\n",
       "  </tbody>\n",
       "</table>\n",
       "</div>"
      ],
      "text/plain": [
       "   Feature    Weight\n",
       "27   x2*x9  2.660367\n",
       "5       x8  1.529776\n",
       "20   x1*x8  0.872772\n",
       "6       x9  0.600717\n",
       "3       x5  0.581430\n",
       "4       x7  0.502816\n",
       "0       x1  0.439973\n",
       "16   x1*x2  0.158607\n",
       "35   x5*x8  0.144820\n",
       "9     x2^2  0.135864"
      ]
     },
     "metadata": {},
     "output_type": "display_data"
    },
    {
     "name": "stdout",
     "output_type": "stream",
     "text": [
      "\n",
      "Top 10 Negative Weights:\n"
     ]
    },
    {
     "data": {
      "text/html": [
       "<div>\n",
       "<style scoped>\n",
       "    .dataframe tbody tr th:only-of-type {\n",
       "        vertical-align: middle;\n",
       "    }\n",
       "\n",
       "    .dataframe tbody tr th {\n",
       "        vertical-align: top;\n",
       "    }\n",
       "\n",
       "    .dataframe thead th {\n",
       "        text-align: right;\n",
       "    }\n",
       "</style>\n",
       "<table border=\"1\" class=\"dataframe\">\n",
       "  <thead>\n",
       "    <tr style=\"text-align: right;\">\n",
       "      <th></th>\n",
       "      <th>Feature</th>\n",
       "      <th>Weight</th>\n",
       "    </tr>\n",
       "  </thead>\n",
       "  <tbody>\n",
       "    <tr>\n",
       "      <th>24</th>\n",
       "      <td>x2*x5</td>\n",
       "      <td>-0.039418</td>\n",
       "    </tr>\n",
       "    <tr>\n",
       "      <th>43</th>\n",
       "      <td>x9*x10</td>\n",
       "      <td>-0.040961</td>\n",
       "    </tr>\n",
       "    <tr>\n",
       "      <th>38</th>\n",
       "      <td>x7*x8</td>\n",
       "      <td>-0.047762</td>\n",
       "    </tr>\n",
       "    <tr>\n",
       "      <th>21</th>\n",
       "      <td>x1*x9</td>\n",
       "      <td>-0.051713</td>\n",
       "    </tr>\n",
       "    <tr>\n",
       "      <th>33</th>\n",
       "      <td>x4*x10</td>\n",
       "      <td>-0.065268</td>\n",
       "    </tr>\n",
       "    <tr>\n",
       "      <th>8</th>\n",
       "      <td>x1^2</td>\n",
       "      <td>-0.097786</td>\n",
       "    </tr>\n",
       "    <tr>\n",
       "      <th>45</th>\n",
       "      <td>x6</td>\n",
       "      <td>-0.100657</td>\n",
       "    </tr>\n",
       "    <tr>\n",
       "      <th>17</th>\n",
       "      <td>x1*x4</td>\n",
       "      <td>-0.231290</td>\n",
       "    </tr>\n",
       "    <tr>\n",
       "      <th>2</th>\n",
       "      <td>x4</td>\n",
       "      <td>-0.383841</td>\n",
       "    </tr>\n",
       "    <tr>\n",
       "      <th>31</th>\n",
       "      <td>x4*x8</td>\n",
       "      <td>-0.745933</td>\n",
       "    </tr>\n",
       "  </tbody>\n",
       "</table>\n",
       "</div>"
      ],
      "text/plain": [
       "   Feature    Weight\n",
       "24   x2*x5 -0.039418\n",
       "43  x9*x10 -0.040961\n",
       "38   x7*x8 -0.047762\n",
       "21   x1*x9 -0.051713\n",
       "33  x4*x10 -0.065268\n",
       "8     x1^2 -0.097786\n",
       "45      x6 -0.100657\n",
       "17   x1*x4 -0.231290\n",
       "2       x4 -0.383841\n",
       "31   x4*x8 -0.745933"
      ]
     },
     "metadata": {},
     "output_type": "display_data"
    }
   ],
   "source": [
    "theta_pegasos_poly, theta_0_pegasos_poly = pegasos_train(\n",
    "    train_poly,\n",
    "    features=expanded_feature_cols,\n",
    "    target=target_col,\n",
    "    lambda_param=0.01,\n",
    "    epochs=5\n",
    ")\n",
    "print(f\"Pegasos (poly) final model trained on entire train_poly. Bias (theta_0) = {theta_0_pegasos_poly:.3f}\")\n",
    "\n",
    "weights_df = pd.DataFrame({\n",
    "    \"Feature\": expanded_feature_cols,\n",
    "    \"Weight\": theta_pegasos_poly\n",
    "}).sort_values(by=\"Weight\", ascending=False)\n",
    "\n",
    "# Show top 10 positive weights and top 10 negative weights\n",
    "print(\"\\nTop 10 Positive Weights:\")\n",
    "display(weights_df.head(10))\n",
    "\n",
    "print(\"\\nTop 10 Negative Weights:\")\n",
    "display(weights_df.tail(10))"
   ]
  },
  {
   "cell_type": "markdown",
   "metadata": {},
   "source": [
    "#### Weights inspection: the three models compared"
   ]
  },
  {
   "cell_type": "code",
   "execution_count": 36,
   "metadata": {},
   "outputs": [
    {
     "name": "stdout",
     "output_type": "stream",
     "text": [
      "=== Perceptron (Polynomial) Weights ===\n",
      "Bias (theta_0) = -15.000\n",
      "\n",
      "Top 10 Positive Weights:\n"
     ]
    },
    {
     "data": {
      "text/html": [
       "<div>\n",
       "<style scoped>\n",
       "    .dataframe tbody tr th:only-of-type {\n",
       "        vertical-align: middle;\n",
       "    }\n",
       "\n",
       "    .dataframe tbody tr th {\n",
       "        vertical-align: top;\n",
       "    }\n",
       "\n",
       "    .dataframe thead th {\n",
       "        text-align: right;\n",
       "    }\n",
       "</style>\n",
       "<table border=\"1\" class=\"dataframe\">\n",
       "  <thead>\n",
       "    <tr style=\"text-align: right;\">\n",
       "      <th></th>\n",
       "      <th>Feature</th>\n",
       "      <th>Weight</th>\n",
       "    </tr>\n",
       "  </thead>\n",
       "  <tbody>\n",
       "    <tr>\n",
       "      <th>27</th>\n",
       "      <td>x2*x9</td>\n",
       "      <td>136.522233</td>\n",
       "    </tr>\n",
       "    <tr>\n",
       "      <th>5</th>\n",
       "      <td>x8</td>\n",
       "      <td>74.202839</td>\n",
       "    </tr>\n",
       "    <tr>\n",
       "      <th>20</th>\n",
       "      <td>x1*x8</td>\n",
       "      <td>41.627963</td>\n",
       "    </tr>\n",
       "    <tr>\n",
       "      <th>6</th>\n",
       "      <td>x9</td>\n",
       "      <td>32.383650</td>\n",
       "    </tr>\n",
       "    <tr>\n",
       "      <th>3</th>\n",
       "      <td>x5</td>\n",
       "      <td>28.378988</td>\n",
       "    </tr>\n",
       "    <tr>\n",
       "      <th>4</th>\n",
       "      <td>x7</td>\n",
       "      <td>24.573826</td>\n",
       "    </tr>\n",
       "    <tr>\n",
       "      <th>0</th>\n",
       "      <td>x1</td>\n",
       "      <td>13.552737</td>\n",
       "    </tr>\n",
       "    <tr>\n",
       "      <th>7</th>\n",
       "      <td>x10</td>\n",
       "      <td>10.522016</td>\n",
       "    </tr>\n",
       "    <tr>\n",
       "      <th>16</th>\n",
       "      <td>x1*x2</td>\n",
       "      <td>9.633112</td>\n",
       "    </tr>\n",
       "    <tr>\n",
       "      <th>23</th>\n",
       "      <td>x2*x4</td>\n",
       "      <td>8.616938</td>\n",
       "    </tr>\n",
       "  </tbody>\n",
       "</table>\n",
       "</div>"
      ],
      "text/plain": [
       "   Feature      Weight\n",
       "27   x2*x9  136.522233\n",
       "5       x8   74.202839\n",
       "20   x1*x8   41.627963\n",
       "6       x9   32.383650\n",
       "3       x5   28.378988\n",
       "4       x7   24.573826\n",
       "0       x1   13.552737\n",
       "7      x10   10.522016\n",
       "16   x1*x2    9.633112\n",
       "23   x2*x4    8.616938"
      ]
     },
     "metadata": {},
     "output_type": "display_data"
    },
    {
     "name": "stdout",
     "output_type": "stream",
     "text": [
      "\n",
      "Top 10 Negative Weights:\n"
     ]
    },
    {
     "data": {
      "text/html": [
       "<div>\n",
       "<style scoped>\n",
       "    .dataframe tbody tr th:only-of-type {\n",
       "        vertical-align: middle;\n",
       "    }\n",
       "\n",
       "    .dataframe tbody tr th {\n",
       "        vertical-align: top;\n",
       "    }\n",
       "\n",
       "    .dataframe thead th {\n",
       "        text-align: right;\n",
       "    }\n",
       "</style>\n",
       "<table border=\"1\" class=\"dataframe\">\n",
       "  <thead>\n",
       "    <tr style=\"text-align: right;\">\n",
       "      <th></th>\n",
       "      <th>Feature</th>\n",
       "      <th>Weight</th>\n",
       "    </tr>\n",
       "  </thead>\n",
       "  <tbody>\n",
       "    <tr>\n",
       "      <th>33</th>\n",
       "      <td>x4*x10</td>\n",
       "      <td>-3.441462</td>\n",
       "    </tr>\n",
       "    <tr>\n",
       "      <th>35</th>\n",
       "      <td>x5*x8</td>\n",
       "      <td>-4.386635</td>\n",
       "    </tr>\n",
       "    <tr>\n",
       "      <th>40</th>\n",
       "      <td>x7*x10</td>\n",
       "      <td>-4.399493</td>\n",
       "    </tr>\n",
       "    <tr>\n",
       "      <th>11</th>\n",
       "      <td>x5^2</td>\n",
       "      <td>-6.193885</td>\n",
       "    </tr>\n",
       "    <tr>\n",
       "      <th>13</th>\n",
       "      <td>x8^2</td>\n",
       "      <td>-7.196528</td>\n",
       "    </tr>\n",
       "    <tr>\n",
       "      <th>8</th>\n",
       "      <td>x1^2</td>\n",
       "      <td>-8.725671</td>\n",
       "    </tr>\n",
       "    <tr>\n",
       "      <th>45</th>\n",
       "      <td>x6</td>\n",
       "      <td>-8.816808</td>\n",
       "    </tr>\n",
       "    <tr>\n",
       "      <th>17</th>\n",
       "      <td>x1*x4</td>\n",
       "      <td>-12.221037</td>\n",
       "    </tr>\n",
       "    <tr>\n",
       "      <th>2</th>\n",
       "      <td>x4</td>\n",
       "      <td>-23.249236</td>\n",
       "    </tr>\n",
       "    <tr>\n",
       "      <th>31</th>\n",
       "      <td>x4*x8</td>\n",
       "      <td>-49.045709</td>\n",
       "    </tr>\n",
       "  </tbody>\n",
       "</table>\n",
       "</div>"
      ],
      "text/plain": [
       "   Feature     Weight\n",
       "33  x4*x10  -3.441462\n",
       "35   x5*x8  -4.386635\n",
       "40  x7*x10  -4.399493\n",
       "11    x5^2  -6.193885\n",
       "13    x8^2  -7.196528\n",
       "8     x1^2  -8.725671\n",
       "45      x6  -8.816808\n",
       "17   x1*x4 -12.221037\n",
       "2       x4 -23.249236\n",
       "31   x4*x8 -49.045709"
      ]
     },
     "metadata": {},
     "output_type": "display_data"
    },
    {
     "name": "stdout",
     "output_type": "stream",
     "text": [
      "=== Pegasos (Polynomial) Weights ===\n",
      "Bias (theta_0) = -0.595\n",
      "\n",
      "Top 10 Positive Weights:\n"
     ]
    },
    {
     "data": {
      "text/html": [
       "<div>\n",
       "<style scoped>\n",
       "    .dataframe tbody tr th:only-of-type {\n",
       "        vertical-align: middle;\n",
       "    }\n",
       "\n",
       "    .dataframe tbody tr th {\n",
       "        vertical-align: top;\n",
       "    }\n",
       "\n",
       "    .dataframe thead th {\n",
       "        text-align: right;\n",
       "    }\n",
       "</style>\n",
       "<table border=\"1\" class=\"dataframe\">\n",
       "  <thead>\n",
       "    <tr style=\"text-align: right;\">\n",
       "      <th></th>\n",
       "      <th>Feature</th>\n",
       "      <th>Weight</th>\n",
       "    </tr>\n",
       "  </thead>\n",
       "  <tbody>\n",
       "    <tr>\n",
       "      <th>27</th>\n",
       "      <td>x2*x9</td>\n",
       "      <td>2.546420</td>\n",
       "    </tr>\n",
       "    <tr>\n",
       "      <th>5</th>\n",
       "      <td>x8</td>\n",
       "      <td>1.446958</td>\n",
       "    </tr>\n",
       "    <tr>\n",
       "      <th>20</th>\n",
       "      <td>x1*x8</td>\n",
       "      <td>0.829942</td>\n",
       "    </tr>\n",
       "    <tr>\n",
       "      <th>3</th>\n",
       "      <td>x5</td>\n",
       "      <td>0.603095</td>\n",
       "    </tr>\n",
       "    <tr>\n",
       "      <th>6</th>\n",
       "      <td>x9</td>\n",
       "      <td>0.576171</td>\n",
       "    </tr>\n",
       "    <tr>\n",
       "      <th>0</th>\n",
       "      <td>x1</td>\n",
       "      <td>0.465679</td>\n",
       "    </tr>\n",
       "    <tr>\n",
       "      <th>4</th>\n",
       "      <td>x7</td>\n",
       "      <td>0.432479</td>\n",
       "    </tr>\n",
       "    <tr>\n",
       "      <th>1</th>\n",
       "      <td>x2</td>\n",
       "      <td>0.139167</td>\n",
       "    </tr>\n",
       "    <tr>\n",
       "      <th>16</th>\n",
       "      <td>x1*x2</td>\n",
       "      <td>0.115271</td>\n",
       "    </tr>\n",
       "    <tr>\n",
       "      <th>9</th>\n",
       "      <td>x2^2</td>\n",
       "      <td>0.102062</td>\n",
       "    </tr>\n",
       "  </tbody>\n",
       "</table>\n",
       "</div>"
      ],
      "text/plain": [
       "   Feature    Weight\n",
       "27   x2*x9  2.546420\n",
       "5       x8  1.446958\n",
       "20   x1*x8  0.829942\n",
       "3       x5  0.603095\n",
       "6       x9  0.576171\n",
       "0       x1  0.465679\n",
       "4       x7  0.432479\n",
       "1       x2  0.139167\n",
       "16   x1*x2  0.115271\n",
       "9     x2^2  0.102062"
      ]
     },
     "metadata": {},
     "output_type": "display_data"
    },
    {
     "name": "stdout",
     "output_type": "stream",
     "text": [
      "\n",
      "Top 10 Negative Weights:\n"
     ]
    },
    {
     "data": {
      "text/html": [
       "<div>\n",
       "<style scoped>\n",
       "    .dataframe tbody tr th:only-of-type {\n",
       "        vertical-align: middle;\n",
       "    }\n",
       "\n",
       "    .dataframe tbody tr th {\n",
       "        vertical-align: top;\n",
       "    }\n",
       "\n",
       "    .dataframe thead th {\n",
       "        text-align: right;\n",
       "    }\n",
       "</style>\n",
       "<table border=\"1\" class=\"dataframe\">\n",
       "  <thead>\n",
       "    <tr style=\"text-align: right;\">\n",
       "      <th></th>\n",
       "      <th>Feature</th>\n",
       "      <th>Weight</th>\n",
       "    </tr>\n",
       "  </thead>\n",
       "  <tbody>\n",
       "    <tr>\n",
       "      <th>36</th>\n",
       "      <td>x5*x9</td>\n",
       "      <td>-0.052073</td>\n",
       "    </tr>\n",
       "    <tr>\n",
       "      <th>30</th>\n",
       "      <td>x4*x7</td>\n",
       "      <td>-0.057730</td>\n",
       "    </tr>\n",
       "    <tr>\n",
       "      <th>12</th>\n",
       "      <td>x7^2</td>\n",
       "      <td>-0.065131</td>\n",
       "    </tr>\n",
       "    <tr>\n",
       "      <th>45</th>\n",
       "      <td>x6</td>\n",
       "      <td>-0.075892</td>\n",
       "    </tr>\n",
       "    <tr>\n",
       "      <th>10</th>\n",
       "      <td>x4^2</td>\n",
       "      <td>-0.092112</td>\n",
       "    </tr>\n",
       "    <tr>\n",
       "      <th>43</th>\n",
       "      <td>x9*x10</td>\n",
       "      <td>-0.096821</td>\n",
       "    </tr>\n",
       "    <tr>\n",
       "      <th>8</th>\n",
       "      <td>x1^2</td>\n",
       "      <td>-0.156554</td>\n",
       "    </tr>\n",
       "    <tr>\n",
       "      <th>17</th>\n",
       "      <td>x1*x4</td>\n",
       "      <td>-0.198842</td>\n",
       "    </tr>\n",
       "    <tr>\n",
       "      <th>2</th>\n",
       "      <td>x4</td>\n",
       "      <td>-0.447579</td>\n",
       "    </tr>\n",
       "    <tr>\n",
       "      <th>31</th>\n",
       "      <td>x4*x8</td>\n",
       "      <td>-0.752467</td>\n",
       "    </tr>\n",
       "  </tbody>\n",
       "</table>\n",
       "</div>"
      ],
      "text/plain": [
       "   Feature    Weight\n",
       "36   x5*x9 -0.052073\n",
       "30   x4*x7 -0.057730\n",
       "12    x7^2 -0.065131\n",
       "45      x6 -0.075892\n",
       "10    x4^2 -0.092112\n",
       "43  x9*x10 -0.096821\n",
       "8     x1^2 -0.156554\n",
       "17   x1*x4 -0.198842\n",
       "2       x4 -0.447579\n",
       "31   x4*x8 -0.752467"
      ]
     },
     "metadata": {},
     "output_type": "display_data"
    },
    {
     "name": "stdout",
     "output_type": "stream",
     "text": [
      "=== Logistic Regression (Polynomial) Weights ===\n",
      "Bias (theta_0) = -0.796\n",
      "\n",
      "Top 10 Positive Weights:\n"
     ]
    },
    {
     "data": {
      "text/html": [
       "<div>\n",
       "<style scoped>\n",
       "    .dataframe tbody tr th:only-of-type {\n",
       "        vertical-align: middle;\n",
       "    }\n",
       "\n",
       "    .dataframe tbody tr th {\n",
       "        vertical-align: top;\n",
       "    }\n",
       "\n",
       "    .dataframe thead th {\n",
       "        text-align: right;\n",
       "    }\n",
       "</style>\n",
       "<table border=\"1\" class=\"dataframe\">\n",
       "  <thead>\n",
       "    <tr style=\"text-align: right;\">\n",
       "      <th></th>\n",
       "      <th>Feature</th>\n",
       "      <th>Weight</th>\n",
       "    </tr>\n",
       "  </thead>\n",
       "  <tbody>\n",
       "    <tr>\n",
       "      <th>27</th>\n",
       "      <td>x2*x9</td>\n",
       "      <td>2.639352</td>\n",
       "    </tr>\n",
       "    <tr>\n",
       "      <th>5</th>\n",
       "      <td>x8</td>\n",
       "      <td>1.566495</td>\n",
       "    </tr>\n",
       "    <tr>\n",
       "      <th>20</th>\n",
       "      <td>x1*x8</td>\n",
       "      <td>0.843127</td>\n",
       "    </tr>\n",
       "    <tr>\n",
       "      <th>3</th>\n",
       "      <td>x5</td>\n",
       "      <td>0.721655</td>\n",
       "    </tr>\n",
       "    <tr>\n",
       "      <th>4</th>\n",
       "      <td>x7</td>\n",
       "      <td>0.575441</td>\n",
       "    </tr>\n",
       "    <tr>\n",
       "      <th>6</th>\n",
       "      <td>x9</td>\n",
       "      <td>0.572388</td>\n",
       "    </tr>\n",
       "    <tr>\n",
       "      <th>0</th>\n",
       "      <td>x1</td>\n",
       "      <td>0.509696</td>\n",
       "    </tr>\n",
       "    <tr>\n",
       "      <th>9</th>\n",
       "      <td>x2^2</td>\n",
       "      <td>0.194446</td>\n",
       "    </tr>\n",
       "    <tr>\n",
       "      <th>14</th>\n",
       "      <td>x9^2</td>\n",
       "      <td>0.189663</td>\n",
       "    </tr>\n",
       "    <tr>\n",
       "      <th>16</th>\n",
       "      <td>x1*x2</td>\n",
       "      <td>0.156268</td>\n",
       "    </tr>\n",
       "  </tbody>\n",
       "</table>\n",
       "</div>"
      ],
      "text/plain": [
       "   Feature    Weight\n",
       "27   x2*x9  2.639352\n",
       "5       x8  1.566495\n",
       "20   x1*x8  0.843127\n",
       "3       x5  0.721655\n",
       "4       x7  0.575441\n",
       "6       x9  0.572388\n",
       "0       x1  0.509696\n",
       "9     x2^2  0.194446\n",
       "14    x9^2  0.189663\n",
       "16   x1*x2  0.156268"
      ]
     },
     "metadata": {},
     "output_type": "display_data"
    },
    {
     "name": "stdout",
     "output_type": "stream",
     "text": [
      "\n",
      "Top 10 Negative Weights:\n"
     ]
    },
    {
     "data": {
      "text/html": [
       "<div>\n",
       "<style scoped>\n",
       "    .dataframe tbody tr th:only-of-type {\n",
       "        vertical-align: middle;\n",
       "    }\n",
       "\n",
       "    .dataframe tbody tr th {\n",
       "        vertical-align: top;\n",
       "    }\n",
       "\n",
       "    .dataframe thead th {\n",
       "        text-align: right;\n",
       "    }\n",
       "</style>\n",
       "<table border=\"1\" class=\"dataframe\">\n",
       "  <thead>\n",
       "    <tr style=\"text-align: right;\">\n",
       "      <th></th>\n",
       "      <th>Feature</th>\n",
       "      <th>Weight</th>\n",
       "    </tr>\n",
       "  </thead>\n",
       "  <tbody>\n",
       "    <tr>\n",
       "      <th>37</th>\n",
       "      <td>x5*x10</td>\n",
       "      <td>-0.063438</td>\n",
       "    </tr>\n",
       "    <tr>\n",
       "      <th>18</th>\n",
       "      <td>x1*x5</td>\n",
       "      <td>-0.082272</td>\n",
       "    </tr>\n",
       "    <tr>\n",
       "      <th>19</th>\n",
       "      <td>x1*x7</td>\n",
       "      <td>-0.099987</td>\n",
       "    </tr>\n",
       "    <tr>\n",
       "      <th>7</th>\n",
       "      <td>x10</td>\n",
       "      <td>-0.100965</td>\n",
       "    </tr>\n",
       "    <tr>\n",
       "      <th>17</th>\n",
       "      <td>x1*x4</td>\n",
       "      <td>-0.122062</td>\n",
       "    </tr>\n",
       "    <tr>\n",
       "      <th>43</th>\n",
       "      <td>x9*x10</td>\n",
       "      <td>-0.123374</td>\n",
       "    </tr>\n",
       "    <tr>\n",
       "      <th>8</th>\n",
       "      <td>x1^2</td>\n",
       "      <td>-0.134045</td>\n",
       "    </tr>\n",
       "    <tr>\n",
       "      <th>45</th>\n",
       "      <td>x6</td>\n",
       "      <td>-0.158022</td>\n",
       "    </tr>\n",
       "    <tr>\n",
       "      <th>2</th>\n",
       "      <td>x4</td>\n",
       "      <td>-0.465224</td>\n",
       "    </tr>\n",
       "    <tr>\n",
       "      <th>31</th>\n",
       "      <td>x4*x8</td>\n",
       "      <td>-0.763085</td>\n",
       "    </tr>\n",
       "  </tbody>\n",
       "</table>\n",
       "</div>"
      ],
      "text/plain": [
       "   Feature    Weight\n",
       "37  x5*x10 -0.063438\n",
       "18   x1*x5 -0.082272\n",
       "19   x1*x7 -0.099987\n",
       "7      x10 -0.100965\n",
       "17   x1*x4 -0.122062\n",
       "43  x9*x10 -0.123374\n",
       "8     x1^2 -0.134045\n",
       "45      x6 -0.158022\n",
       "2       x4 -0.465224\n",
       "31   x4*x8 -0.763085"
      ]
     },
     "metadata": {},
     "output_type": "display_data"
    }
   ],
   "source": [
    "#Perceptron Weights\n",
    "weights_perc_df = pd.DataFrame({\n",
    "    \"Feature\": expanded_feature_cols,\n",
    "    \"Weight\": theta_perc_poly\n",
    "}).sort_values(by=\"Weight\", ascending=False)\n",
    "\n",
    "print(\"=== Perceptron (Polynomial) Weights ===\")\n",
    "print(f\"Bias (theta_0) = {theta0_perc_poly:.3f}\")\n",
    "\n",
    "print(\"\\nTop 10 Positive Weights:\")\n",
    "display(weights_perc_df.head(10))\n",
    "\n",
    "print(\"\\nTop 10 Negative Weights:\")\n",
    "display(weights_perc_df.tail(10))\n",
    "\n",
    "\n",
    "#Pegasos Weights\n",
    "weights_pega_df = pd.DataFrame({\n",
    "    \"Feature\": expanded_feature_cols,\n",
    "    \"Weight\": theta_pega_poly\n",
    "}).sort_values(by=\"Weight\", ascending=False)\n",
    "\n",
    "print(\"=== Pegasos (Polynomial) Weights ===\")\n",
    "print(f\"Bias (theta_0) = {theta0_pega_poly:.3f}\")\n",
    "\n",
    "print(\"\\nTop 10 Positive Weights:\")\n",
    "display(weights_pega_df.head(10))\n",
    "\n",
    "print(\"\\nTop 10 Negative Weights:\")\n",
    "display(weights_pega_df.tail(10))\n",
    "\n",
    "#LogReg Weights\n",
    "weights_logreg_df = pd.DataFrame({\n",
    "    \"Feature\": expanded_feature_cols,\n",
    "    \"Weight\": theta_logreg_poly\n",
    "}).sort_values(by=\"Weight\", ascending=False)\n",
    "\n",
    "print(\"=== Logistic Regression (Polynomial) Weights ===\")\n",
    "print(f\"Bias (theta_0) = {theta0_logreg_poly:.3f}\")\n",
    "\n",
    "print(\"\\nTop 10 Positive Weights:\")\n",
    "display(weights_logreg_df.head(10))\n",
    "\n",
    "print(\"\\nTop 10 Negative Weights:\")\n",
    "display(weights_logreg_df.tail(10))\n"
   ]
  },
  {
   "cell_type": "markdown",
   "metadata": {},
   "source": [
    "#### Plot"
   ]
  },
  {
   "cell_type": "code",
   "execution_count": 37,
   "metadata": {},
   "outputs": [
    {
     "data": {
      "image/png": "[encoded data removed]",
      "text/plain": [
       "<Figure size 700x400 with 1 Axes>"
      ]
     },
     "metadata": {},
     "output_type": "display_data"
    }
   ],
   "source": [
    "models = [\"Perceptron (poly)\", \"Pegasos (poly)\", \"Logistic (poly)\"]\n",
    "test_accuracies_poly = [test_acc_poly_perc, test_acc_poly_perc, test_acc_logreg_poly]\n",
    "\n",
    "plt.figure(figsize=(7,4))\n",
    "plt.bar(models, test_accuracies_poly, color=[\"skyblue\",\"salmon\",\"palegreen\"])\n",
    "plt.ylim([0,1])\n",
    "plt.title(\"Final Test Accuracies on Polynomial-Expanded Features\")\n",
    "plt.ylabel(\"Accuracy\")\n",
    "for i, v in enumerate(test_accuracies_poly):\n",
    "    plt.text(i, v+0.01, f\"{v:.3f}\", ha='center', fontweight='bold')\n",
    "plt.tight_layout()\n",
    "plt.show()\n"
   ]
  },
  {
   "cell_type": "markdown",
   "metadata": {},
   "source": [
    "# Kernel Methods"
   ]
  },
  {
   "cell_type": "markdown",
   "metadata": {},
   "source": [
    "## Kernelized Perceptron with Gaussian and Polynomial Kernel"
   ]
  },
  {
   "cell_type": "code",
   "execution_count": 38,
   "metadata": {},
   "outputs": [],
   "source": [
    "k = 5\n",
    "target_col = \"y\""
   ]
  },
  {
   "cell_type": "markdown",
   "metadata": {},
   "source": [
    "### Gaussian Kernel Perceptron\n",
    "\n",
    "Traning set evaluation"
   ]
  },
  {
   "cell_type": "code",
   "execution_count": 39,
   "metadata": {},
   "outputs": [
    {
     "name": "stdout",
     "output_type": "stream",
     "text": [
      "=== Kernelized Perceptron (Gaussian Kernel) ===\n",
      "Gaussian Kernel: 5-fold CV Accuracy = 0.939\n"
     ]
    }
   ],
   "source": [
    "print(\"=== Kernelized Perceptron (Gaussian Kernel) ===\")\n",
    "sigma_value = 1.0   # Adjust as needed\n",
    "epochs_gauss = 5    # Adjust as needed\n",
    "\n",
    "accuracy_gauss = k_fold_cross_validation(\n",
    "    df=train_scaled,  # or use a smaller subset if runtime is high\n",
    "    features=final_features,\n",
    "    target=target_col,\n",
    "    k=k,\n",
    "    random_state=42,\n",
    "    classifier_func=lambda tr_fold, vl_fold, f, t: kernelized_perceptron_classifier_func(\n",
    "        tr_fold, vl_fold, f, t,\n",
    "        kernel_func=gaussian_kernel,\n",
    "        kernel_params={\"sigma\": sigma_value},\n",
    "        epochs=epochs_gauss\n",
    "    )\n",
    ")\n",
    "print(f\"Gaussian Kernel: {k}-fold CV Accuracy = {accuracy_gauss:.3f}\")"
   ]
  },
  {
   "cell_type": "markdown",
   "metadata": {},
   "source": [
    "### Polinomial Kernel Perceptron\n",
    "Training Set Evaluation"
   ]
  },
  {
   "cell_type": "code",
   "execution_count": 40,
   "metadata": {},
   "outputs": [
    {
     "name": "stdout",
     "output_type": "stream",
     "text": [
      "\n",
      "=== Kernelized Perceptron (Polynomial Kernel) ===\n",
      "Polynomial Kernel (degree=2): 5-fold CV Accuracy = 0.925\n"
     ]
    }
   ],
   "source": [
    "print(\"\\n=== Kernelized Perceptron (Polynomial Kernel) ===\")\n",
    "degree_value = 2    # e.g., quadratic\n",
    "c_value = 1.0       # offset in (x^T y + c)^degree\n",
    "epochs_poly = 5\n",
    "\n",
    "accuracy_poly = k_fold_cross_validation(\n",
    "    df=train_scaled, \n",
    "    features=final_features,\n",
    "    target=target_col,\n",
    "    k=k,\n",
    "    random_state=42,\n",
    "    classifier_func=lambda tr_fold, vl_fold, f, t: kernelized_perceptron_classifier_func(\n",
    "        tr_fold, vl_fold, f, t,\n",
    "        kernel_func=polynomial_kernel,\n",
    "        kernel_params={\"degree\": degree_value, \"c\": c_value},\n",
    "        epochs=epochs_poly\n",
    "    )\n",
    ")\n",
    "print(f\"Polynomial Kernel (degree={degree_value}): {k}-fold CV Accuracy = {accuracy_poly:.3f}\")"
   ]
  },
  {
   "cell_type": "markdown",
   "metadata": {},
   "source": [
    "### Evaluation on Test set\n",
    "Firstly, the Gaussian Kernel Perceptron"
   ]
  },
  {
   "cell_type": "code",
   "execution_count": 41,
   "metadata": {},
   "outputs": [
    {
     "name": "stdout",
     "output_type": "stream",
     "text": [
      "Gaussian Kernel Perceptron Test Accuracy: 0.930\n"
     ]
    }
   ],
   "source": [
    "X_train = train_scaled[final_features].values\n",
    "y_train = train_scaled[target_col].values\n",
    "X_test = test_scaled[final_features].values\n",
    "y_test = test_scaled[target_col].values\n",
    "\n",
    "alpha_gauss = kernelized_perceptron_train(\n",
    "    X_train, y_train,\n",
    "    kernel_func=gaussian_kernel,\n",
    "    kernel_params={\"sigma\": sigma_value},\n",
    "    epochs=epochs_gauss\n",
    ")\n",
    "\n",
    "test_preds_gauss = kernelized_perceptron_predict(\n",
    "    X_train, y_train,\n",
    "    alpha_gauss,\n",
    "    X_test,\n",
    "    kernel_func=gaussian_kernel,\n",
    "    kernel_params={\"sigma\": sigma_value}\n",
    ")\n",
    "test_acc_gauss = np.mean(test_preds_gauss == y_test)\n",
    "print(f\"Gaussian Kernel Perceptron Test Accuracy: {test_acc_gauss:.3f}\")\n"
   ]
  },
  {
   "cell_type": "markdown",
   "metadata": {},
   "source": [
    "Then the polynomial kernel"
   ]
  },
  {
   "cell_type": "code",
   "execution_count": 42,
   "metadata": {},
   "outputs": [
    {
     "name": "stdout",
     "output_type": "stream",
     "text": [
      "Polynomial (d=2) Kernel Perceptron Test Accuracy: 0.927\n"
     ]
    }
   ],
   "source": [
    "alpha_poly = kernelized_perceptron_train(\n",
    "    X_train, y_train,\n",
    "    kernel_func=polynomial_kernel,\n",
    "    kernel_params={\"degree\": degree_value, \"c\": c_value},\n",
    "    epochs=epochs_poly\n",
    ")\n",
    "\n",
    "test_preds_poly = kernelized_perceptron_predict(\n",
    "    X_train, y_train,\n",
    "    alpha_poly,\n",
    "    X_test,\n",
    "    kernel_func=polynomial_kernel,\n",
    "    kernel_params={\"degree\": degree_value, \"c\": c_value}\n",
    ")\n",
    "test_acc_poly = np.mean(test_preds_poly == y_test)\n",
    "print(f\"Polynomial (d={degree_value}) Kernel Perceptron Test Accuracy: {test_acc_poly:.3f}\")"
   ]
  },
  {
   "cell_type": "markdown",
   "metadata": {},
   "source": [
    "## Kernelized Pegasos SVM"
   ]
  },
  {
   "cell_type": "code",
   "execution_count": 43,
   "metadata": {},
   "outputs": [],
   "source": [
    "k = 5\n",
    "target_col = \"y\""
   ]
  },
  {
   "cell_type": "markdown",
   "metadata": {},
   "source": [
    "### Pegasos with Gaussian Kernel"
   ]
  },
  {
   "cell_type": "code",
   "execution_count": 44,
   "metadata": {},
   "outputs": [
    {
     "name": "stdout",
     "output_type": "stream",
     "text": [
      "Kernelized Pegasos (Gaussian, sigma=1.0) 5-fold CV accuracy: 0.857\n"
     ]
    }
   ],
   "source": [
    "lambda_val = 0.01\n",
    "epochs_kpega = 5\n",
    "sigma_val = 1.0\n",
    "\n",
    "cv_acc_pegasos_gauss = k_fold_cross_validation(\n",
    "    df=train_scaled,\n",
    "    features=final_features,\n",
    "    target=target_col,\n",
    "    k=k,\n",
    "    random_state=42,\n",
    "    classifier_func=lambda tr_fold, vl_fold, f, t: kernelized_pegasos_classifier_func(\n",
    "        tr_fold, vl_fold,\n",
    "        features=f, target=t,\n",
    "        kernel_func=gaussian_kernel,\n",
    "        kernel_params={\"sigma\": sigma_val},\n",
    "        lambda_param=lambda_val,\n",
    "        epochs=epochs_kpega\n",
    "    )\n",
    ")\n",
    "\n",
    "print(f\"Kernelized Pegasos (Gaussian, sigma={sigma_val}) {k}-fold CV accuracy: {cv_acc_pegasos_gauss:.3f}\")\n"
   ]
  },
  {
   "cell_type": "markdown",
   "metadata": {},
   "source": [
    "The code above is the actual computation\n",
    "The code below is ran on a sample for easier computation."
   ]
  },
  {
   "cell_type": "code",
   "execution_count": 45,
   "metadata": {},
   "outputs": [
    {
     "name": "stdout",
     "output_type": "stream",
     "text": [
      "Kernelized Pegasos (Gaussian, sigma=1.0) 5-fold CV accuracy: 0.830\n"
     ]
    }
   ],
   "source": [
    "train_sampled = train_scaled.sample(n=400, random_state=42)\n",
    "\n",
    "lambda_val = 0.01\n",
    "epochs_kpega = 5\n",
    "sigma_val = 1.0\n",
    "\n",
    "cv_acc_pegasos_gauss = k_fold_cross_validation(\n",
    "    df=train_sampled,\n",
    "    features=final_features,\n",
    "    target=target_col,\n",
    "    k=k,\n",
    "    random_state=42,\n",
    "    classifier_func=lambda tr_fold, vl_fold, f, t: kernelized_pegasos_classifier_func(\n",
    "        tr_fold, vl_fold,\n",
    "        features=f, target=t,\n",
    "        kernel_func=gaussian_kernel,\n",
    "        kernel_params={\"sigma\": sigma_val},\n",
    "        lambda_param=lambda_val,\n",
    "        epochs=epochs_kpega\n",
    "    )\n",
    ")\n",
    "\n",
    "print(f\"Kernelized Pegasos (Gaussian, sigma={sigma_val}) {k}-fold CV accuracy: {cv_acc_pegasos_gauss:.3f}\")\n"
   ]
  },
  {
   "cell_type": "markdown",
   "metadata": {},
   "source": [
    "Now on the test set"
   ]
  },
  {
   "cell_type": "code",
   "execution_count": 46,
   "metadata": {},
   "outputs": [
    {
     "name": "stdout",
     "output_type": "stream",
     "text": [
      "Kernelized Pegasos (Gaussian) Test Accuracy: 0.842\n"
     ]
    }
   ],
   "source": [
    "\n",
    "\n",
    "alpha_gauss, T_gauss = kernelized_pegasos_train(\n",
    "    X_train, y_train,\n",
    "    kernel_func=gaussian_kernel,\n",
    "    kernel_params={\"sigma\": sigma_val},\n",
    "    lambda_param=lambda_val,\n",
    "    epochs=epochs_kpega\n",
    ")\n",
    "test_preds_gauss = kernelized_pegasos_predict(\n",
    "    X_train, y_train,\n",
    "    alpha_gauss, T_gauss,\n",
    "    X_test,\n",
    "    kernel_func=gaussian_kernel,\n",
    "    kernel_params={\"sigma\": sigma_val},\n",
    "    lambda_param=lambda_val\n",
    ")\n",
    "test_acc_kernel_gauss_pega = (test_preds_gauss == y_test).mean()\n",
    "print(f\"Kernelized Pegasos (Gaussian) Test Accuracy: {test_acc_kernel_gauss_pega:.3f}\")\n"
   ]
  },
  {
   "cell_type": "markdown",
   "metadata": {},
   "source": [
    "### Pegasos with Polynomial Kernel"
   ]
  },
  {
   "cell_type": "code",
   "execution_count": 47,
   "metadata": {},
   "outputs": [
    {
     "name": "stdout",
     "output_type": "stream",
     "text": [
      "Kernelized Pegasos (Polynomial, deg=2, c=1.0) 5-fold CV accuracy: 0.943\n"
     ]
    }
   ],
   "source": [
    "degree_val = 2\n",
    "c_val = 1.0\n",
    "\n",
    "cv_acc_pegasos_poly = k_fold_cross_validation(\n",
    "    df=train_scaled,\n",
    "    features=final_features,\n",
    "    target=target_col,\n",
    "    k=k,\n",
    "    random_state=42,\n",
    "    classifier_func=lambda tr_fold, vl_fold, f, t: kernelized_pegasos_classifier_func(\n",
    "        tr_fold, vl_fold,\n",
    "        features=f, target=t,\n",
    "        kernel_func=polynomial_kernel,\n",
    "        kernel_params={\"degree\": degree_val, \"c\": c_val},\n",
    "        lambda_param=lambda_val,\n",
    "        epochs=epochs_kpega\n",
    "    )\n",
    ")\n",
    "\n",
    "print(f\"Kernelized Pegasos (Polynomial, deg={degree_val}, c={c_val}) {k}-fold CV accuracy: {cv_acc_pegasos_poly:.3f}\")\n"
   ]
  },
  {
   "cell_type": "code",
   "execution_count": 48,
   "metadata": {},
   "outputs": [
    {
     "name": "stdout",
     "output_type": "stream",
     "text": [
      "Kernelized Pegasos (Polynomial) Test Accuracy: 0.941\n"
     ]
    }
   ],
   "source": [
    "alpha_poly, T_poly = kernelized_pegasos_train(\n",
    "    X_train, y_train,\n",
    "    kernel_func=polynomial_kernel,\n",
    "    kernel_params={\"degree\": degree_val, \"c\": c_val},\n",
    "    lambda_param=lambda_val,\n",
    "    epochs=epochs_kpega\n",
    ")\n",
    "test_preds_poly = kernelized_pegasos_predict(\n",
    "    X_train, y_train,\n",
    "    alpha_poly, T_poly,\n",
    "    X_test,\n",
    "    kernel_func=polynomial_kernel,\n",
    "    kernel_params={\"degree\": degree_val, \"c\": c_val},\n",
    "    lambda_param=lambda_val\n",
    ")\n",
    "test_acc_kernel_poly_pega = (test_preds_poly == y_test).mean()\n",
    "print(f\"Kernelized Pegasos (Polynomial) Test Accuracy: {test_acc_kernel_poly_pega:.3f}\")"
   ]
  },
  {
   "cell_type": "markdown",
   "metadata": {},
   "source": [
    "# Final Data Visualization"
   ]
  },
  {
   "cell_type": "code",
   "execution_count": 49,
   "metadata": {},
   "outputs": [
    {
     "name": "stdout",
     "output_type": "stream",
     "text": [
      "Final Test Accuracy Summary:\n"
     ]
    },
    {
     "data": {
      "text/html": [
       "<div>\n",
       "<style scoped>\n",
       "    .dataframe tbody tr th:only-of-type {\n",
       "        vertical-align: middle;\n",
       "    }\n",
       "\n",
       "    .dataframe tbody tr th {\n",
       "        vertical-align: top;\n",
       "    }\n",
       "\n",
       "    .dataframe thead th {\n",
       "        text-align: right;\n",
       "    }\n",
       "</style>\n",
       "<table border=\"1\" class=\"dataframe\">\n",
       "  <thead>\n",
       "    <tr style=\"text-align: right;\">\n",
       "      <th></th>\n",
       "      <th>Model</th>\n",
       "      <th>Method</th>\n",
       "      <th>Test Accuracy</th>\n",
       "    </tr>\n",
       "  </thead>\n",
       "  <tbody>\n",
       "    <tr>\n",
       "      <th>0</th>\n",
       "      <td>Logistic</td>\n",
       "      <td>Linear</td>\n",
       "      <td>0.708269</td>\n",
       "    </tr>\n",
       "    <tr>\n",
       "      <th>1</th>\n",
       "      <td>Logistic</td>\n",
       "      <td>Polynomial Expansion</td>\n",
       "      <td>0.925013</td>\n",
       "    </tr>\n",
       "    <tr>\n",
       "      <th>2</th>\n",
       "      <td>Pegasos</td>\n",
       "      <td>Kernel (Gaussian)</td>\n",
       "      <td>0.842322</td>\n",
       "    </tr>\n",
       "    <tr>\n",
       "      <th>3</th>\n",
       "      <td>Pegasos</td>\n",
       "      <td>Kernel (Polynomial)</td>\n",
       "      <td>0.941448</td>\n",
       "    </tr>\n",
       "    <tr>\n",
       "      <th>4</th>\n",
       "      <td>Pegasos</td>\n",
       "      <td>Linear</td>\n",
       "      <td>0.709296</td>\n",
       "    </tr>\n",
       "    <tr>\n",
       "      <th>5</th>\n",
       "      <td>Pegasos</td>\n",
       "      <td>Polynomial Expansion</td>\n",
       "      <td>0.920904</td>\n",
       "    </tr>\n",
       "    <tr>\n",
       "      <th>6</th>\n",
       "      <td>Perceptron</td>\n",
       "      <td>Kernel (Gaussian)</td>\n",
       "      <td>0.930149</td>\n",
       "    </tr>\n",
       "    <tr>\n",
       "      <th>7</th>\n",
       "      <td>Perceptron</td>\n",
       "      <td>Kernel (Polynomial)</td>\n",
       "      <td>0.926554</td>\n",
       "    </tr>\n",
       "    <tr>\n",
       "      <th>8</th>\n",
       "      <td>Perceptron</td>\n",
       "      <td>Linear</td>\n",
       "      <td>0.617360</td>\n",
       "    </tr>\n",
       "    <tr>\n",
       "      <th>9</th>\n",
       "      <td>Perceptron</td>\n",
       "      <td>Polynomial Expansion</td>\n",
       "      <td>0.917309</td>\n",
       "    </tr>\n",
       "  </tbody>\n",
       "</table>\n",
       "</div>"
      ],
      "text/plain": [
       "        Model                Method  Test Accuracy\n",
       "0    Logistic                Linear       0.708269\n",
       "1    Logistic  Polynomial Expansion       0.925013\n",
       "2     Pegasos     Kernel (Gaussian)       0.842322\n",
       "3     Pegasos   Kernel (Polynomial)       0.941448\n",
       "4     Pegasos                Linear       0.709296\n",
       "5     Pegasos  Polynomial Expansion       0.920904\n",
       "6  Perceptron     Kernel (Gaussian)       0.930149\n",
       "7  Perceptron   Kernel (Polynomial)       0.926554\n",
       "8  Perceptron                Linear       0.617360\n",
       "9  Perceptron  Polynomial Expansion       0.917309"
      ]
     },
     "metadata": {},
     "output_type": "display_data"
    },
    {
     "data": {
      "text/html": [
       "<div>\n",
       "<style scoped>\n",
       "    .dataframe tbody tr th:only-of-type {\n",
       "        vertical-align: middle;\n",
       "    }\n",
       "\n",
       "    .dataframe tbody tr th {\n",
       "        vertical-align: top;\n",
       "    }\n",
       "\n",
       "    .dataframe thead th {\n",
       "        text-align: right;\n",
       "    }\n",
       "</style>\n",
       "<table border=\"1\" class=\"dataframe\">\n",
       "  <thead>\n",
       "    <tr style=\"text-align: right;\">\n",
       "      <th>Method</th>\n",
       "      <th>Kernel (Gaussian)</th>\n",
       "      <th>Kernel (Polynomial)</th>\n",
       "      <th>Linear</th>\n",
       "      <th>Polynomial Expansion</th>\n",
       "    </tr>\n",
       "    <tr>\n",
       "      <th>Model</th>\n",
       "      <th></th>\n",
       "      <th></th>\n",
       "      <th></th>\n",
       "      <th></th>\n",
       "    </tr>\n",
       "  </thead>\n",
       "  <tbody>\n",
       "    <tr>\n",
       "      <th>Logistic</th>\n",
       "      <td>NaN</td>\n",
       "      <td>NaN</td>\n",
       "      <td>0.708269</td>\n",
       "      <td>0.925013</td>\n",
       "    </tr>\n",
       "    <tr>\n",
       "      <th>Pegasos</th>\n",
       "      <td>0.842322</td>\n",
       "      <td>0.941448</td>\n",
       "      <td>0.709296</td>\n",
       "      <td>0.920904</td>\n",
       "    </tr>\n",
       "    <tr>\n",
       "      <th>Perceptron</th>\n",
       "      <td>0.930149</td>\n",
       "      <td>0.926554</td>\n",
       "      <td>0.617360</td>\n",
       "      <td>0.917309</td>\n",
       "    </tr>\n",
       "  </tbody>\n",
       "</table>\n",
       "</div>"
      ],
      "text/plain": [
       "Method      Kernel (Gaussian)  Kernel (Polynomial)    Linear  \\\n",
       "Model                                                          \n",
       "Logistic                  NaN                  NaN  0.708269   \n",
       "Pegasos              0.842322             0.941448  0.709296   \n",
       "Perceptron           0.930149             0.926554  0.617360   \n",
       "\n",
       "Method      Polynomial Expansion  \n",
       "Model                             \n",
       "Logistic                0.925013  \n",
       "Pegasos                 0.920904  \n",
       "Perceptron              0.917309  "
      ]
     },
     "metadata": {},
     "output_type": "display_data"
    },
    {
     "data": {
      "image/png": "[encoded data removed]",
      "text/plain": [
       "<Figure size 1000x600 with 1 Axes>"
      ]
     },
     "metadata": {},
     "output_type": "display_data"
    },
    {
     "data": {
      "image/png": "[encoded data removed]",
      "text/plain": [
       "<Figure size 800x600 with 1 Axes>"
      ]
     },
     "metadata": {},
     "output_type": "display_data"
    }
   ],
   "source": [
    "# Example placeholders (DELETE or REPLACE with real computed values):\n",
    "'''test_acc_perc_linear = 0.80\n",
    "test_acc_poly_perc = 0.82\n",
    "test_acc_perc_kernel_gauss = 0.84\n",
    "test_acc_perc_kernel_poly = 0.83\n",
    "\n",
    "test_acc_pegasos_linear = 0.81\n",
    "test_acc_pegasos_poly = 0.83\n",
    "test_acc_pegasos_kernel_gauss = 0.85\n",
    "test_acc_pegasos_kernel_poly = 0.84\n",
    "'''\n",
    "# If you have logistic regression equivalents, define them too, e.g.:\n",
    "'''test_acc_logreg_linear = 0.78\n",
    "test_acc_logreg_poly = 0.80'''\n",
    "\n",
    "# 1. We'll create a summary DataFrame\n",
    "final_summary = []\n",
    "\n",
    "# Perceptron\n",
    "final_summary.append({\n",
    "    \"Model\": \"Perceptron\",\n",
    "    \"Method\": \"Linear\",\n",
    "    \"Test Accuracy\": test_acc_perc\n",
    "})\n",
    "final_summary.append({\n",
    "    \"Model\": \"Perceptron\",\n",
    "    \"Method\": \"Polynomial Expansion\",\n",
    "    \"Test Accuracy\": test_acc_poly_perc\n",
    "})\n",
    "final_summary.append({\n",
    "    \"Model\": \"Perceptron\",\n",
    "    \"Method\": \"Kernel (Gaussian)\",\n",
    "    \"Test Accuracy\": test_acc_gauss\n",
    "})\n",
    "final_summary.append({\n",
    "    \"Model\": \"Perceptron\",\n",
    "    \"Method\": \"Kernel (Polynomial)\",\n",
    "    \"Test Accuracy\": test_acc_poly\n",
    "})\n",
    "\n",
    "# Pegasos\n",
    "final_summary.append({\n",
    "    \"Model\": \"Pegasos\",\n",
    "    \"Method\": \"Linear\",\n",
    "    \"Test Accuracy\": test_acc_pega\n",
    "})\n",
    "final_summary.append({\n",
    "    \"Model\": \"Pegasos\",\n",
    "    \"Method\": \"Polynomial Expansion\",\n",
    "    \"Test Accuracy\": test_acc_poly_pega\n",
    "})\n",
    "final_summary.append({\n",
    "    \"Model\": \"Pegasos\",\n",
    "    \"Method\": \"Kernel (Gaussian)\",\n",
    "    \"Test Accuracy\": test_acc_kernel_gauss_pega\n",
    "})\n",
    "final_summary.append({\n",
    "    \"Model\": \"Pegasos\",\n",
    "    \"Method\": \"Kernel (Polynomial)\",\n",
    "    \"Test Accuracy\": test_acc_kernel_poly_pega\n",
    "})\n",
    "\n",
    "# (Optional) Logistic\n",
    "final_summary.append({\n",
    "    \"Model\": \"Logistic\",\n",
    "    \"Method\": \"Linear\",\n",
    "    \"Test Accuracy\": test_acc_lr\n",
    "})\n",
    "final_summary.append({\n",
    "    \"Model\": \"Logistic\",\n",
    "    \"Method\": \"Polynomial Expansion\",\n",
    "    \"Test Accuracy\": test_acc_logreg_poly\n",
    "})\n",
    "\n",
    "summary_df = pd.DataFrame(final_summary)\n",
    "summary_df = summary_df.sort_values(by=[\"Model\", \"Method\"]).reset_index(drop=True)\n",
    "print(\"Final Test Accuracy Summary:\")\n",
    "display(summary_df)\n",
    "\n",
    "\n",
    "# %%\n",
    "# Barplot of final test accuracies by Model and Method\n",
    "# Prepare data\n",
    "models = summary_df[\"Model\"].unique()\n",
    "methods = summary_df[\"Method\"].unique()\n",
    "\n",
    "# Pivot the DataFrame for plotting\n",
    "pivot_df = summary_df.pivot(index=\"Model\", columns=\"Method\", values=\"Test Accuracy\")\n",
    "display(pivot_df)\n",
    "\n",
    "# Plot grouped bar chart\n",
    "pivot_df.plot(kind=\"bar\", figsize=(10,6))\n",
    "plt.ylim([0, 1])\n",
    "plt.title(\"Final Test Accuracies by Model and Method\")\n",
    "plt.ylabel(\"Accuracy\")\n",
    "plt.legend(title=\"Method\", bbox_to_anchor=(1.0, 1.0))\n",
    "plt.tight_layout()\n",
    "plt.show()\n",
    "\n",
    "# Single bar chart with all methods (Model x Method)\n",
    "plt.figure(figsize=(8,6))\n",
    "x_vals = range(len(summary_df))\n",
    "acc_vals = summary_df[\"Test Accuracy\"].values\n",
    "labels = [f\"{row.Model}\\n{row.Method}\" for idx, row in summary_df.iterrows()]\n",
    "\n",
    "plt.bar(x_vals, acc_vals, color=\"skyblue\")\n",
    "for i, v in enumerate(acc_vals):\n",
    "    plt.text(i, v+0.01, f\"{v:.3f}\", ha='center', fontweight='bold')\n",
    "plt.ylim([0,1])\n",
    "plt.xticks(x_vals, labels, rotation=45, ha=\"right\")\n",
    "plt.title(\"Final Test Accuracies (All Experiments)\")\n",
    "plt.tight_layout()\n",
    "plt.show()\n"
   ]
  }
 ],
 "metadata": {
  "kernelspec": {
   "display_name": "klc_venv",
   "language": "python",
   "name": "python3"
  },
  "language_info": {
   "codemirror_mode": {
    "name": "ipython",
    "version": 3
   },
   "file_extension": ".py",
   "mimetype": "text/x-python",
   "name": "python",
   "nbconvert_exporter": "python",
   "pygments_lexer": "ipython3",
   "version": "3.13.0"
  }
 },
 "nbformat": 4,
 "nbformat_minor": 2
}
