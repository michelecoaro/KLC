{
 "cells": [
  {
   "cell_type": "markdown",
   "metadata": {},
   "source": [
    "# %% [markdown]\n",
    "# Project Notebook: Classification of y from x1,...,x10\n",
    "\n",
    "Welcome! The goal of this notebook is to explains the steps needed to:\n",
    "- Load and explore a dataset with columns x1,...,x10 plus the label y.\n",
    "- Perform data cleaning (e.g., outlier removal), train/test splitting, and standardization being mindful of data leakage.\n",
    "- Train and evaluate from-scratch (no scikit-learn!) implementations of:\n",
    "   1) Perceptron\n",
    "   2) Pegasos SVM (hinge loss)\n",
    "   3) Pegasos Logistic (logistic loss)\n",
    "   4) Polynomial feature expansion (degree 2)\n",
    "   5) Kernel Perceptron (Gaussian & polynomial kernels)\n",
    "   6) Kernel Pegasos SVM (Gaussian & polynomial kernels)\n",
    "- Assess model performance using 0-1 loss (equivalently, accuracy).\n",
    "\n"
   ]
  },
  {
   "cell_type": "code",
   "execution_count": 1,
   "metadata": {},
   "outputs": [],
   "source": [
    "# Basic Library imports\n",
    "import numpy as np\n",
    "import pandas as pd\n",
    "import matplotlib.pyplot as plt\n",
    "\n",
    "# Import your custom functions/classes from functions.py (adjust as needed).\n",
    "from ml_functions import (\n",
    "    # Data utilities\n",
    "    remove_outliers_from_file,\n",
    "    split_and_standardize_data,\n",
    "    impute_missing_values,\n",
    "    to_pm1_labels,\n",
    "\n",
    "    # Models\n",
    "    Perceptron,\n",
    "    PegasosSVM,\n",
    "    PegasosLogistic,\n",
    "    KernelPerceptron,\n",
    "    KernelPegasosSVM,\n",
    "\n",
    "    # Feature expansion and kernel utilities\n",
    "    polynomial_feature_expansion,\n",
    "    gaussian_kernel,\n",
    "    polynomial_kernel,\n",
    "\n",
    "    # Metrics\n",
    "    accuracy_score,\n",
    "    zero_one_loss\n",
    ")\n",
    "\n",
    "%matplotlib inline\n"
   ]
  },
  {
   "cell_type": "code",
   "execution_count": null,
   "metadata": {},
   "outputs": [
    {
     "name": "stdout",
     "output_type": "stream",
     "text": [
      "Shape of the raw dataset: (10000, 11)\n"
     ]
    },
    {
     "data": {
      "text/html": [
       "<div>\n",
       "<style scoped>\n",
       "    .dataframe tbody tr th:only-of-type {\n",
       "        vertical-align: middle;\n",
       "    }\n",
       "\n",
       "    .dataframe tbody tr th {\n",
       "        vertical-align: top;\n",
       "    }\n",
       "\n",
       "    .dataframe thead th {\n",
       "        text-align: right;\n",
       "    }\n",
       "</style>\n",
       "<table border=\"1\" class=\"dataframe\">\n",
       "  <thead>\n",
       "    <tr style=\"text-align: right;\">\n",
       "      <th></th>\n",
       "      <th>x1</th>\n",
       "      <th>x2</th>\n",
       "      <th>x3</th>\n",
       "      <th>x4</th>\n",
       "      <th>x5</th>\n",
       "      <th>x6</th>\n",
       "      <th>x7</th>\n",
       "      <th>x8</th>\n",
       "      <th>x9</th>\n",
       "      <th>x10</th>\n",
       "      <th>y</th>\n",
       "    </tr>\n",
       "  </thead>\n",
       "  <tbody>\n",
       "    <tr>\n",
       "      <th>0</th>\n",
       "      <td>1.205492</td>\n",
       "      <td>5.823226</td>\n",
       "      <td>98.837539</td>\n",
       "      <td>-1.075852</td>\n",
       "      <td>0.999205</td>\n",
       "      <td>0.911543</td>\n",
       "      <td>3.623558</td>\n",
       "      <td>-1.720267</td>\n",
       "      <td>-0.346191</td>\n",
       "      <td>-54.708330</td>\n",
       "      <td>-1</td>\n",
       "    </tr>\n",
       "    <tr>\n",
       "      <th>1</th>\n",
       "      <td>1.391530</td>\n",
       "      <td>3.611581</td>\n",
       "      <td>98.857197</td>\n",
       "      <td>-5.020318</td>\n",
       "      <td>0.677165</td>\n",
       "      <td>0.999492</td>\n",
       "      <td>3.413112</td>\n",
       "      <td>4.253865</td>\n",
       "      <td>2.041603</td>\n",
       "      <td>-54.317291</td>\n",
       "      <td>1</td>\n",
       "    </tr>\n",
       "    <tr>\n",
       "      <th>2</th>\n",
       "      <td>1.692571</td>\n",
       "      <td>-0.887019</td>\n",
       "      <td>100.901276</td>\n",
       "      <td>-0.595548</td>\n",
       "      <td>0.177550</td>\n",
       "      <td>-0.915495</td>\n",
       "      <td>4.320264</td>\n",
       "      <td>0.907834</td>\n",
       "      <td>3.126815</td>\n",
       "      <td>-56.397484</td>\n",
       "      <td>-1</td>\n",
       "    </tr>\n",
       "    <tr>\n",
       "      <th>3</th>\n",
       "      <td>4.289320</td>\n",
       "      <td>1.416843</td>\n",
       "      <td>100.784735</td>\n",
       "      <td>-2.897154</td>\n",
       "      <td>-0.066972</td>\n",
       "      <td>-0.786173</td>\n",
       "      <td>2.093003</td>\n",
       "      <td>1.336237</td>\n",
       "      <td>2.183829</td>\n",
       "      <td>-56.197728</td>\n",
       "      <td>1</td>\n",
       "    </tr>\n",
       "    <tr>\n",
       "      <th>4</th>\n",
       "      <td>0.542420</td>\n",
       "      <td>-1.010095</td>\n",
       "      <td>100.015580</td>\n",
       "      <td>-3.070705</td>\n",
       "      <td>0.088324</td>\n",
       "      <td>-0.242669</td>\n",
       "      <td>0.767942</td>\n",
       "      <td>-0.284683</td>\n",
       "      <td>-2.104145</td>\n",
       "      <td>-55.794045</td>\n",
       "      <td>1</td>\n",
       "    </tr>\n",
       "  </tbody>\n",
       "</table>\n",
       "</div>"
      ],
      "text/plain": [
       "         x1        x2          x3        x4        x5        x6        x7  \\\n",
       "0  1.205492  5.823226   98.837539 -1.075852  0.999205  0.911543  3.623558   \n",
       "1  1.391530  3.611581   98.857197 -5.020318  0.677165  0.999492  3.413112   \n",
       "2  1.692571 -0.887019  100.901276 -0.595548  0.177550 -0.915495  4.320264   \n",
       "3  4.289320  1.416843  100.784735 -2.897154 -0.066972 -0.786173  2.093003   \n",
       "4  0.542420 -1.010095  100.015580 -3.070705  0.088324 -0.242669  0.767942   \n",
       "\n",
       "         x8        x9        x10  y  \n",
       "0 -1.720267 -0.346191 -54.708330 -1  \n",
       "1  4.253865  2.041603 -54.317291  1  \n",
       "2  0.907834  3.126815 -56.397484 -1  \n",
       "3  1.336237  2.183829 -56.197728  1  \n",
       "4 -0.284683 -2.104145 -55.794045  1  "
      ]
     },
     "execution_count": 4,
     "metadata": {},
     "output_type": "execute_result"
    }
   ],
   "source": [
    "\n",
    "# 1. Load and Inspect the Dataset\n",
    "\n",
    "# File path\n",
    "csv_file = \"/Users/michelecoaro/Documents/GitHub/KLC/klc_project/dataset.csv\"  # Adjust if needed\n",
    "\n",
    "# Read the dataset into a DataFrame\n",
    "df = pd.read_csv(csv_file)\n",
    "\n",
    "print(\"Shape of the raw dataset:\", df.shape)\n",
    "df.head()\n"
   ]
  },
  {
   "cell_type": "code",
   "execution_count": 5,
   "metadata": {},
   "outputs": [
    {
     "name": "stdout",
     "output_type": "stream",
     "text": [
      "<class 'pandas.core.frame.DataFrame'>\n",
      "RangeIndex: 10000 entries, 0 to 9999\n",
      "Data columns (total 11 columns):\n",
      " #   Column  Non-Null Count  Dtype  \n",
      "---  ------  --------------  -----  \n",
      " 0   x1      10000 non-null  float64\n",
      " 1   x2      10000 non-null  float64\n",
      " 2   x3      10000 non-null  float64\n",
      " 3   x4      10000 non-null  float64\n",
      " 4   x5      10000 non-null  float64\n",
      " 5   x6      10000 non-null  float64\n",
      " 6   x7      10000 non-null  float64\n",
      " 7   x8      10000 non-null  float64\n",
      " 8   x9      10000 non-null  float64\n",
      " 9   x10     10000 non-null  float64\n",
      " 10  y       10000 non-null  int64  \n",
      "dtypes: float64(10), int64(1)\n",
      "memory usage: 859.5 KB\n"
     ]
    },
    {
     "data": {
      "text/html": [
       "<div>\n",
       "<style scoped>\n",
       "    .dataframe tbody tr th:only-of-type {\n",
       "        vertical-align: middle;\n",
       "    }\n",
       "\n",
       "    .dataframe tbody tr th {\n",
       "        vertical-align: top;\n",
       "    }\n",
       "\n",
       "    .dataframe thead th {\n",
       "        text-align: right;\n",
       "    }\n",
       "</style>\n",
       "<table border=\"1\" class=\"dataframe\">\n",
       "  <thead>\n",
       "    <tr style=\"text-align: right;\">\n",
       "      <th></th>\n",
       "      <th>x1</th>\n",
       "      <th>x2</th>\n",
       "      <th>x3</th>\n",
       "      <th>x4</th>\n",
       "      <th>x5</th>\n",
       "      <th>x6</th>\n",
       "      <th>x7</th>\n",
       "      <th>x8</th>\n",
       "      <th>x9</th>\n",
       "      <th>x10</th>\n",
       "      <th>y</th>\n",
       "    </tr>\n",
       "  </thead>\n",
       "  <tbody>\n",
       "    <tr>\n",
       "      <th>count</th>\n",
       "      <td>10000.000000</td>\n",
       "      <td>10000.000000</td>\n",
       "      <td>10000.000000</td>\n",
       "      <td>10000.000000</td>\n",
       "      <td>10000.000000</td>\n",
       "      <td>10000.000000</td>\n",
       "      <td>10000.000000</td>\n",
       "      <td>10000.000000</td>\n",
       "      <td>10000.000000</td>\n",
       "      <td>10000.000000</td>\n",
       "      <td>10000.000000</td>\n",
       "    </tr>\n",
       "    <tr>\n",
       "      <th>mean</th>\n",
       "      <td>1.591298</td>\n",
       "      <td>0.515879</td>\n",
       "      <td>99.848936</td>\n",
       "      <td>-1.504139</td>\n",
       "      <td>0.077645</td>\n",
       "      <td>0.051823</td>\n",
       "      <td>0.975207</td>\n",
       "      <td>0.635194</td>\n",
       "      <td>0.051926</td>\n",
       "      <td>-55.447678</td>\n",
       "      <td>-0.001600</td>\n",
       "    </tr>\n",
       "    <tr>\n",
       "      <th>std</th>\n",
       "      <td>1.321185</td>\n",
       "      <td>2.054488</td>\n",
       "      <td>0.710948</td>\n",
       "      <td>1.133605</td>\n",
       "      <td>0.707270</td>\n",
       "      <td>0.704755</td>\n",
       "      <td>2.162237</td>\n",
       "      <td>2.212708</td>\n",
       "      <td>1.769646</td>\n",
       "      <td>0.710082</td>\n",
       "      <td>1.000049</td>\n",
       "    </tr>\n",
       "    <tr>\n",
       "      <th>min</th>\n",
       "      <td>0.002443</td>\n",
       "      <td>-7.524934</td>\n",
       "      <td>98.572455</td>\n",
       "      <td>-7.078939</td>\n",
       "      <td>-1.000000</td>\n",
       "      <td>-1.000000</td>\n",
       "      <td>-6.906971</td>\n",
       "      <td>-7.140755</td>\n",
       "      <td>-7.151890</td>\n",
       "      <td>-56.773931</td>\n",
       "      <td>-1.000000</td>\n",
       "    </tr>\n",
       "    <tr>\n",
       "      <th>25%</th>\n",
       "      <td>0.524758</td>\n",
       "      <td>-0.883862</td>\n",
       "      <td>99.159314</td>\n",
       "      <td>-2.179713</td>\n",
       "      <td>-0.624710</td>\n",
       "      <td>-0.644261</td>\n",
       "      <td>-0.500506</td>\n",
       "      <td>-0.879985</td>\n",
       "      <td>-1.129665</td>\n",
       "      <td>-56.137679</td>\n",
       "      <td>-1.000000</td>\n",
       "    </tr>\n",
       "    <tr>\n",
       "      <th>50%</th>\n",
       "      <td>1.276243</td>\n",
       "      <td>0.492813</td>\n",
       "      <td>99.802830</td>\n",
       "      <td>-1.262985</td>\n",
       "      <td>0.157145</td>\n",
       "      <td>0.101648</td>\n",
       "      <td>1.006918</td>\n",
       "      <td>0.624762</td>\n",
       "      <td>0.024726</td>\n",
       "      <td>-55.397208</td>\n",
       "      <td>-1.000000</td>\n",
       "    </tr>\n",
       "    <tr>\n",
       "      <th>75%</th>\n",
       "      <td>2.352106</td>\n",
       "      <td>1.902003</td>\n",
       "      <td>100.549141</td>\n",
       "      <td>-0.605316</td>\n",
       "      <td>0.777856</td>\n",
       "      <td>0.754770</td>\n",
       "      <td>2.434886</td>\n",
       "      <td>2.098389</td>\n",
       "      <td>1.248961</td>\n",
       "      <td>-54.758351</td>\n",
       "      <td>1.000000</td>\n",
       "    </tr>\n",
       "    <tr>\n",
       "      <th>max</th>\n",
       "      <td>9.384223</td>\n",
       "      <td>8.302375</td>\n",
       "      <td>101.260768</td>\n",
       "      <td>-0.000003</td>\n",
       "      <td>1.000000</td>\n",
       "      <td>1.000000</td>\n",
       "      <td>8.760306</td>\n",
       "      <td>9.287266</td>\n",
       "      <td>6.211452</td>\n",
       "      <td>-54.208890</td>\n",
       "      <td>1.000000</td>\n",
       "    </tr>\n",
       "  </tbody>\n",
       "</table>\n",
       "</div>"
      ],
      "text/plain": [
       "                 x1            x2            x3            x4            x5  \\\n",
       "count  10000.000000  10000.000000  10000.000000  10000.000000  10000.000000   \n",
       "mean       1.591298      0.515879     99.848936     -1.504139      0.077645   \n",
       "std        1.321185      2.054488      0.710948      1.133605      0.707270   \n",
       "min        0.002443     -7.524934     98.572455     -7.078939     -1.000000   \n",
       "25%        0.524758     -0.883862     99.159314     -2.179713     -0.624710   \n",
       "50%        1.276243      0.492813     99.802830     -1.262985      0.157145   \n",
       "75%        2.352106      1.902003    100.549141     -0.605316      0.777856   \n",
       "max        9.384223      8.302375    101.260768     -0.000003      1.000000   \n",
       "\n",
       "                 x6            x7            x8            x9           x10  \\\n",
       "count  10000.000000  10000.000000  10000.000000  10000.000000  10000.000000   \n",
       "mean       0.051823      0.975207      0.635194      0.051926    -55.447678   \n",
       "std        0.704755      2.162237      2.212708      1.769646      0.710082   \n",
       "min       -1.000000     -6.906971     -7.140755     -7.151890    -56.773931   \n",
       "25%       -0.644261     -0.500506     -0.879985     -1.129665    -56.137679   \n",
       "50%        0.101648      1.006918      0.624762      0.024726    -55.397208   \n",
       "75%        0.754770      2.434886      2.098389      1.248961    -54.758351   \n",
       "max        1.000000      8.760306      9.287266      6.211452    -54.208890   \n",
       "\n",
       "                  y  \n",
       "count  10000.000000  \n",
       "mean      -0.001600  \n",
       "std        1.000049  \n",
       "min       -1.000000  \n",
       "25%       -1.000000  \n",
       "50%       -1.000000  \n",
       "75%        1.000000  \n",
       "max        1.000000  "
      ]
     },
     "execution_count": 5,
     "metadata": {},
     "output_type": "execute_result"
    }
   ],
   "source": [
    "'''\n",
    "Quick Exploratory Data Analysis\n",
    "We'll do a few basic checks: df.info(), df.describe(), etc.\n",
    "You can add more EDA as needed.\n",
    "'''\n",
    "\n",
    "\n",
    "df.info()\n",
    "df.describe()"
   ]
  },
  {
   "cell_type": "code",
   "execution_count": 6,
   "metadata": {},
   "outputs": [
    {
     "data": {
      "image/png": "[encoded data removed]",
      "text/plain": [
       "<Figure size 1000x800 with 12 Axes>"
      ]
     },
     "metadata": {},
     "output_type": "display_data"
    },
    {
     "name": "stdout",
     "output_type": "stream",
     "text": [
      "Correlation matrix:\n",
      "            x1        x2        x3        x4        x5        x6        x7  \\\n",
      "x1   1.000000  0.213794 -0.059941 -0.107913 -0.069695  0.059450  0.157192   \n",
      "x2   0.213794  1.000000 -0.036847 -0.146139 -0.033884  0.035874  0.193332   \n",
      "x3  -0.059941 -0.036847  1.000000  0.038096  0.006647 -0.990158 -0.072462   \n",
      "x4  -0.107913 -0.146139  0.038096  1.000000  0.060270 -0.037245 -0.106705   \n",
      "x5  -0.069695 -0.033884  0.006647  0.060270  1.000000 -0.005960 -0.050388   \n",
      "x6   0.059450  0.035874 -0.990158 -0.037245 -0.005960  1.000000  0.071362   \n",
      "x7   0.157192  0.193332 -0.072462 -0.106705 -0.050388  0.071362  1.000000   \n",
      "x8   0.223806  0.239564 -0.051349 -0.144265 -0.140856  0.049723  0.334096   \n",
      "x9   0.429268  0.329018 -0.028337 -0.072148 -0.130413  0.026130  0.306482   \n",
      "x10  0.058455  0.036350 -0.979901 -0.035631 -0.005754  0.989845  0.070218   \n",
      "y    0.219823  0.105165  0.056483 -0.203853  0.068666 -0.057853  0.261017   \n",
      "\n",
      "           x8        x9       x10         y  \n",
      "x1   0.223806  0.429268  0.058455  0.219823  \n",
      "x2   0.239564  0.329018  0.036350  0.105165  \n",
      "x3  -0.051349 -0.028337 -0.979901  0.056483  \n",
      "x4  -0.144265 -0.072148 -0.035631 -0.203853  \n",
      "x5  -0.140856 -0.130413 -0.005754  0.068666  \n",
      "x6   0.049723  0.026130  0.989845 -0.057853  \n",
      "x7   0.334096  0.306482  0.070218  0.261017  \n",
      "x8   1.000000  0.272695  0.050648  0.390244  \n",
      "x9   0.272695  1.000000  0.025856  0.190294  \n",
      "x10  0.050648  0.025856  1.000000 -0.056650  \n",
      "y    0.390244  0.190294 -0.056650  1.000000  \n"
     ]
    }
   ],
   "source": [
    "# Histograms of features (excluding label y)\n",
    "df.drop(\"y\", axis=1).hist(figsize=(10, 8))\n",
    "plt.suptitle(\"Histograms of Features\", fontsize=16)\n",
    "plt.show()\n",
    "\n",
    "# Correlation matrix\n",
    "corr_matrix = df.corr()\n",
    "print(\"Correlation matrix:\\n\", corr_matrix)"
   ]
  },
  {
   "cell_type": "markdown",
   "metadata": {},
   "source": [
    "2. Outlier removal.\n",
    "\n",
    "- Removes rows beyond a certain z-score threshold. \n",
    "- This overwrites your original CSV. \n",
    "- Comment this part out if you don't want to change your original file."
   ]
  },
  {
   "cell_type": "code",
   "execution_count": 7,
   "metadata": {},
   "outputs": [
    {
     "name": "stdout",
     "output_type": "stream",
     "text": [
      "Removed 265 outliers from /Users/michelecoaro/Documents/GitHub/KLC/klc_project/dataset.csv\n",
      "Shape after outlier removal: (9735, 11)\n"
     ]
    }
   ],
   "source": [
    "remove_outliers_from_file(csv_file, threshold=3.0, columns=[f\"x{i}\" for i in range(1,11)])\n",
    "df = pd.read_csv(csv_file)\n",
    "print(\"Shape after outlier removal:\", df.shape)"
   ]
  },
  {
   "cell_type": "markdown",
   "metadata": {},
   "source": [
    "3. Prepare the Data for Modeling\n",
    "- Separate X, y\n",
    "- Convert y to {+1, -1}\n",
    "- Split (train/test), standardize (to avoid leakage)\n",
    "- (Optional) Impute missing values"
   ]
  },
  {
   "cell_type": "code",
   "execution_count": 8,
   "metadata": {},
   "outputs": [
    {
     "name": "stdout",
     "output_type": "stream",
     "text": [
      "Training set shape: (7788, 10)\n",
      "Test set shape:     (1947, 10)\n"
     ]
    }
   ],
   "source": [
    "# Separate X and y\n",
    "X = df[[f\"x{i}\" for i in range(1, 11)]].values\n",
    "y = df[\"y\"].values\n",
    "\n",
    "# Convert labels if they aren't already in {+1, -1}.\n",
    "y = to_pm1_labels(y)\n",
    "\n",
    "# Split & standardize\n",
    "X_train, X_test, y_train, y_test = split_and_standardize_data(\n",
    "    X, y, test_ratio=0.2, random_state=42\n",
    ")\n",
    "\n",
    "# If needed, impute missing values:\n",
    "# X_train, X_test = impute_missing_values(X_train, X_test, strategy='median')\n",
    "\n",
    "print(\"Training set shape:\", X_train.shape)\n",
    "print(\"Test set shape:    \", X_test.shape)\n"
   ]
  },
  {
   "cell_type": "markdown",
   "metadata": {},
   "source": [
    "### 4. Train and Evaluate Linear Models\n",
    "\n",
    "#### 4.1 Perceptron"
   ]
  },
  {
   "cell_type": "code",
   "execution_count": 9,
   "metadata": {},
   "outputs": [
    {
     "name": "stdout",
     "output_type": "stream",
     "text": [
      "[Perceptron]\n",
      "Test Accuracy = 68.36%\n",
      "0-1 Loss      = 0.316\n"
     ]
    }
   ],
   "source": [
    "perc = Perceptron(max_iter=10, shuffle=True, random_state=42)\n",
    "perc.fit(X_train, y_train)\n",
    "\n",
    "y_pred_perc = perc.predict(X_test)\n",
    "acc_perc = accuracy_score(y_test, y_pred_perc)\n",
    "loss_perc = zero_one_loss(y_test, y_pred_perc)\n",
    "\n",
    "print(\"[Perceptron]\")\n",
    "print(f\"Test Accuracy = {acc_perc * 100:.2f}%\")\n",
    "print(f\"0-1 Loss      = {loss_perc:.3f}\")\n"
   ]
  },
  {
   "cell_type": "markdown",
   "metadata": {},
   "source": [
    "#### 4.2 Pegasos SVM (Hinge Loss)\n"
   ]
  },
  {
   "cell_type": "code",
   "execution_count": 10,
   "metadata": {},
   "outputs": [
    {
     "name": "stdout",
     "output_type": "stream",
     "text": [
      "[Pegasos SVM]\n",
      "Test Accuracy = 54.90%\n",
      "0-1 Loss      = 0.451\n"
     ]
    }
   ],
   "source": [
    "\n",
    "svm = PegasosSVM(lambda_=1e-4, max_iter=1000, random_state=42)\n",
    "svm.fit(X_train, y_train)\n",
    "\n",
    "y_pred_svm = svm.predict(X_test)\n",
    "acc_svm = accuracy_score(y_test, y_pred_svm)\n",
    "loss_svm = zero_one_loss(y_test, y_pred_svm)\n",
    "\n",
    "print(\"[Pegasos SVM]\")\n",
    "print(f\"Test Accuracy = {acc_svm * 100:.2f}%\")\n",
    "print(f\"0-1 Loss      = {loss_svm:.3f}\")\n"
   ]
  },
  {
   "cell_type": "code",
   "execution_count": 11,
   "metadata": {},
   "outputs": [
    {
     "name": "stdout",
     "output_type": "stream",
     "text": [
      "[Pegasos Logistic]\n",
      "Test Accuracy = 55.98%\n",
      "0-1 Loss      = 0.440\n"
     ]
    },
    {
     "name": "stderr",
     "output_type": "stream",
     "text": [
      "/Users/michelecoaro/Documents/GitHub/KLC/klc_project/code/ml_functions.py:393: RuntimeWarning: overflow encountered in exp\n",
      "  logistic_grad = - (y[i] * X[i]) / (1.0 + np.exp(exponent))\n"
     ]
    }
   ],
   "source": [
    "# %% [markdown]\n",
    "# ### 4.3 Pegasos Logistic (Logistic Loss)\n",
    "\n",
    "# %%\n",
    "logi = PegasosLogistic(lambda_=1e-4, max_iter=1000, random_state=42)\n",
    "logi.fit(X_train, y_train)\n",
    "\n",
    "y_pred_logi = logi.predict(X_test)\n",
    "acc_logi = accuracy_score(y_test, y_pred_logi)\n",
    "loss_logi = zero_one_loss(y_test, y_pred_logi)\n",
    "\n",
    "print(\"[Pegasos Logistic]\")\n",
    "print(f\"Test Accuracy = {acc_logi * 100:.2f}%\")\n",
    "print(f\"0-1 Loss      = {loss_logi:.3f}\")\n"
   ]
  },
  {
   "cell_type": "code",
   "execution_count": 12,
   "metadata": {},
   "outputs": [
    {
     "name": "stdout",
     "output_type": "stream",
     "text": [
      "Perceptron Weights: [ 2.51535098 -0.66138006  4.07281333 -0.28036261  1.31365433  2.88629953\n",
      " -0.28122768  5.88716195 -1.97522132  0.01776441]\n",
      "Pegasos SVM Weights: [ 36.28620578  -6.35110942  17.56464252  -1.94232886 -21.64712884\n",
      "  -3.59318545 -23.42558755  11.99958365  18.0338117   20.73502909]\n",
      "Pegasos Logistic Weights: [ 11.36195848 -13.62976213   9.73056436   6.9096827  -14.70974453\n",
      "  -4.34971738 -24.77654474  29.25002147  10.83239596  18.72944168]\n"
     ]
    }
   ],
   "source": [
    "# %% [markdown]\n",
    "# ### 4.4 Observations about the learned weights (linear models)\n",
    "\n",
    "# %%\n",
    "print(\"Perceptron Weights:\", perc.w)\n",
    "print(\"Pegasos SVM Weights:\", svm.w)\n",
    "print(\"Pegasos Logistic Weights:\", logi.w)\n",
    "\n",
    "# You can investigate which features have the largest magnitude weights, etc.\n"
   ]
  },
  {
   "cell_type": "code",
   "execution_count": 13,
   "metadata": {},
   "outputs": [
    {
     "name": "stdout",
     "output_type": "stream",
     "text": [
      "X_train shape (original): (7788, 10)\n",
      "X_train_poly shape:       (7788, 66)\n"
     ]
    }
   ],
   "source": [
    "# %% [markdown]\n",
    "# ## 5. Polynomial Feature Expansion (Degree 2)\n",
    "# Expand features: x -> [1, x1, x2, ..., x1^2, x1*x2, ..., x10^2].\n",
    "# Then train the same linear models on these expanded features.\n",
    "\n",
    "# %%\n",
    "X_train_poly = polynomial_feature_expansion(X_train, degree=2, include_bias=True)\n",
    "X_test_poly = polynomial_feature_expansion(X_test, degree=2, include_bias=True)\n",
    "\n",
    "print(\"X_train shape (original):\", X_train.shape)\n",
    "print(\"X_train_poly shape:      \", X_train_poly.shape)\n"
   ]
  },
  {
   "cell_type": "code",
   "execution_count": 14,
   "metadata": {},
   "outputs": [
    {
     "name": "stdout",
     "output_type": "stream",
     "text": [
      "[Perceptron + Polynomial Features] Accuracy = 91.58%\n",
      "[Pegasos SVM + Polynomial] Accuracy = 85.93%\n",
      "[Pegasos Logistic + Polynomial] Accuracy = 84.64%\n"
     ]
    }
   ],
   "source": [
    "# %% [markdown]\n",
    "# ### 5.1 Perceptron with Polynomial Features\n",
    "\n",
    "# %%\n",
    "perc_poly = Perceptron(max_iter=10, shuffle=True, random_state=42)\n",
    "perc_poly.fit(X_train_poly, y_train)\n",
    "acc_perc_poly = accuracy_score(y_test, perc_poly.predict(X_test_poly))\n",
    "\n",
    "print(\"[Perceptron + Polynomial Features] Accuracy = {:.2f}%\".format(acc_perc_poly*100))\n",
    "\n",
    "# You can do the same for Pegasos SVM & Pegasos Logistic\n",
    "svm_poly = PegasosSVM(lambda_=1e-4, max_iter=1000, random_state=42)\n",
    "svm_poly.fit(X_train_poly, y_train)\n",
    "acc_svm_poly = accuracy_score(y_test, svm_poly.predict(X_test_poly))\n",
    "\n",
    "logi_poly = PegasosLogistic(lambda_=1e-4, max_iter=1000, random_state=42)\n",
    "logi_poly.fit(X_train_poly, y_train)\n",
    "acc_logi_poly = accuracy_score(y_test, logi_poly.predict(X_test_poly))\n",
    "\n",
    "print(\"[Pegasos SVM + Polynomial] Accuracy = {:.2f}%\".format(acc_svm_poly*100))\n",
    "print(\"[Pegasos Logistic + Polynomial] Accuracy = {:.2f}%\".format(acc_logi_poly*100))\n"
   ]
  },
  {
   "cell_type": "code",
   "execution_count": 15,
   "metadata": {},
   "outputs": [
    {
     "name": "stdout",
     "output_type": "stream",
     "text": [
      "[Kernel Perceptron - Gaussian] Accuracy = 93.32%\n",
      "[Kernel Perceptron - Polynomial] Accuracy = 92.40%\n"
     ]
    }
   ],
   "source": [
    "# %% [markdown]\n",
    "# ## 6. Kernel Methods\n",
    "# ### 6.1 Kernel Perceptron (Gaussian / Polynomial)\n",
    "\n",
    "# %%\n",
    "kp_gauss = KernelPerceptron(kernel=\"gaussian\", sigma=1.0, max_iter=10)\n",
    "kp_gauss.fit(X_train, y_train)\n",
    "acc_kp_gauss = kp_gauss.score(X_test, y_test)\n",
    "print(\"[Kernel Perceptron - Gaussian] Accuracy = {:.2f}%\".format(acc_kp_gauss*100))\n",
    "\n",
    "kp_poly = KernelPerceptron(kernel=\"polynomial\", degree=2, c=1.0, max_iter=10)\n",
    "kp_poly.fit(X_train, y_train)\n",
    "acc_kp_poly = kp_poly.score(X_test, y_test)\n",
    "print(\"[Kernel Perceptron - Polynomial] Accuracy = {:.2f}%\".format(acc_kp_poly*100))\n"
   ]
  },
  {
   "cell_type": "code",
   "execution_count": 16,
   "metadata": {},
   "outputs": [
    {
     "name": "stdout",
     "output_type": "stream",
     "text": [
      "[Kernel Pegasos SVM - Gaussian] Accuracy = 75.91%\n",
      "[Kernel Pegasos SVM - Polynomial] Accuracy = 69.85%\n"
     ]
    }
   ],
   "source": [
    "# %% [markdown]\n",
    "# ### 6.2 Kernel Pegasos SVM (Gaussian / Polynomial)\n",
    "\n",
    "# %%\n",
    "kpsvm_gauss = KernelPegasosSVM(\n",
    "    lambda_=1e-4,\n",
    "    max_iter=1000,\n",
    "    kernel=\"gaussian\",\n",
    "    sigma=1.0,\n",
    "    random_state=42\n",
    ")\n",
    "kpsvm_gauss.fit(X_train, y_train)\n",
    "acc_kpsvm_gauss = kpsvm_gauss.score(X_test, y_test)\n",
    "print(\"[Kernel Pegasos SVM - Gaussian] Accuracy = {:.2f}%\".format(acc_kpsvm_gauss*100))\n",
    "\n",
    "kpsvm_poly = KernelPegasosSVM(\n",
    "    lambda_=1e-4,\n",
    "    max_iter=1000,\n",
    "    kernel=\"polynomial\",\n",
    "    degree=2,\n",
    "    c=1.0,\n",
    "    random_state=42\n",
    ")\n",
    "kpsvm_poly.fit(X_train, y_train)\n",
    "acc_kpsvm_poly = kpsvm_poly.score(X_test, y_test)\n",
    "print(\"[Kernel Pegasos SVM - Polynomial] Accuracy = {:.2f}%\".format(acc_kpsvm_poly*100))\n"
   ]
  },
  {
   "cell_type": "code",
   "execution_count": 17,
   "metadata": {},
   "outputs": [
    {
     "name": "stdout",
     "output_type": "stream",
     "text": [
      "Best accuracy found = 81.00%\n",
      "Best params (sigma, lambda_) = (0.5, 0.001)\n"
     ]
    }
   ],
   "source": [
    "# %% [markdown]\n",
    "# ### 6.3 Hyperparameter Tuning\n",
    "# You can systematically experiment with different hyperparameters (sigma, lambda, etc).\n",
    "# Below is a brief example for Kernel Pegasos SVM (Gaussian) searching over two parameters.\n",
    "\n",
    "# %%\n",
    "possible_sigmas = [0.5, 1.0, 2.0]\n",
    "possible_lambdas = [1e-4, 1e-3]\n",
    "\n",
    "best_acc = 0\n",
    "best_params = None\n",
    "\n",
    "for s in possible_sigmas:\n",
    "    for lam in possible_lambdas:\n",
    "        model_ = KernelPegasosSVM(\n",
    "            lambda_=lam,\n",
    "            max_iter=1000,\n",
    "            kernel=\"gaussian\",\n",
    "            sigma=s,\n",
    "            random_state=42\n",
    "        )\n",
    "        model_.fit(X_train, y_train)\n",
    "        acc_ = model_.score(X_test, y_test)\n",
    "        if acc_ > best_acc:\n",
    "            best_acc = acc_\n",
    "            best_params = (s, lam)\n",
    "\n",
    "print(f\"Best accuracy found = {best_acc*100:.2f}%\")\n",
    "print(\"Best params (sigma, lambda_) =\", best_params)\n"
   ]
  }
 ],
 "metadata": {
  "kernelspec": {
   "display_name": "klc_venv",
   "language": "python",
   "name": "python3"
  },
  "language_info": {
   "codemirror_mode": {
    "name": "ipython",
    "version": 3
   },
   "file_extension": ".py",
   "mimetype": "text/x-python",
   "name": "python",
   "nbconvert_exporter": "python",
   "pygments_lexer": "ipython3",
   "version": "3.13.0"
  }
 },
 "nbformat": 4,
 "nbformat_minor": 2
}
